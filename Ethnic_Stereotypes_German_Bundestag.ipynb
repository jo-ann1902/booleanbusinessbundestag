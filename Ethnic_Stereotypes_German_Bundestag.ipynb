{
  "cells": [
    {
      "cell_type": "markdown",
      "metadata": {
        "id": "view-in-github",
        "colab_type": "text"
      },
      "source": [
        "<a href=\"https://colab.research.google.com/github/jo-ann1902/booleanbusinessbundestag/blob/main/Ethnic_Stereotypes_German_Bundestag.ipynb\" target=\"_parent\"><img src=\"https://colab.research.google.com/assets/colab-badge.svg\" alt=\"Open In Colab\"/></a>"
      ]
    },
    {
      "cell_type": "code",
      "execution_count": 65,
      "metadata": {
        "colab": {
          "base_uri": "https://localhost:8080/"
        },
        "id": "9e9q1mEMgQ6D",
        "outputId": "d8b0ef6d-ef26-47b0-8604-3caf21751df9"
      },
      "outputs": [
        {
          "output_type": "stream",
          "name": "stdout",
          "text": [
            "Drive already mounted at /content/drive; to attempt to forcibly remount, call drive.mount(\"/content/drive\", force_remount=True).\n"
          ]
        }
      ],
      "source": [
        "from google.colab import drive\n",
        "drive.mount('/content/drive')"
      ]
    },
    {
      "cell_type": "markdown",
      "metadata": {
        "id": "pXPFy681hxn9"
      },
      "source": [
        "# Data Loading into Pandas dataframes\n",
        "The data is located on a google drive folder."
      ]
    },
    {
      "cell_type": "code",
      "execution_count": 66,
      "metadata": {
        "id": "ZtRcG3hKlQrW"
      },
      "outputs": [],
      "source": [
        "import pandas as pd"
      ]
    },
    {
      "cell_type": "code",
      "execution_count": 67,
      "metadata": {
        "id": "kA_3YoOohqia"
      },
      "outputs": [],
      "source": [
        "\"\"\"\n",
        "Data Loading XML into Pandas \n",
        "\"\"\"\n",
        "import pandas as pd\n",
        "import xml.etree.ElementTree as et\n",
        "def parse_XML(xml_file): \n",
        "    \"\"\"Parse the input XML file and store the result in a pandas \n",
        "    DataFrame with the given columns. \n",
        "    \n",
        "    The first element of df_cols is supposed to be the identifier \n",
        "    variable, which is an attribute of each node element in the \n",
        "    XML data; other features will be parsed from the text content \n",
        "    of each sub-element. \n",
        "    \"\"\"\n",
        "    xtree = et.parse(xml_file)\n",
        "    xroot = xtree.getroot()\n",
        "    election_period = xroot.find(\"WAHLPERIODE\").text\n",
        "    doc_type        = xroot.find(\"DOKUMENTART\").text\n",
        "    n_doc           = xroot.find(\"NR\").text\n",
        "    date            = xroot.find(\"DATUM\").text\n",
        "    title           = xroot.find(\"TITEL\").text\n",
        "    text            = xroot.find(\"TEXT\").text\n",
        "    rows = [[election_period,doc_type,n_doc,date,title,text]]\n",
        "    out_df = pd.DataFrame(rows, columns=[\"election period\",\"document type\",\"number document\",\"date\",\"title\",\"text\"])   \n",
        "    return out_df"
      ]
    },
    {
      "cell_type": "code",
      "execution_count": 68,
      "metadata": {
        "id": "WE39df4LyPgT"
      },
      "outputs": [],
      "source": [
        "'''\n",
        "    For the given path, get the List of all files in the directory tree \n",
        "'''\n",
        "import os\n",
        "def getListOfFiles(dirName):\n",
        "    # create a list of file and sub directories \n",
        "    # names in the given directory \n",
        "    listOfFile = os.listdir(dirName)\n",
        "    allFiles = list()\n",
        "    # Iterate over all the entries\n",
        "    for entry in listOfFile:\n",
        "        # Create full path\n",
        "        fullPath = os.path.join(dirName, entry)\n",
        "        # If entry is a directory then get the list of files in this directory \n",
        "        if os.path.isdir(fullPath):\n",
        "            allFiles = allFiles + getListOfFiles(fullPath)\n",
        "        else:\n",
        "            allFiles.append(fullPath)\n",
        "                \n",
        "    return allFiles"
      ]
    },
    {
      "cell_type": "code",
      "execution_count": 69,
      "metadata": {
        "colab": {
          "base_uri": "https://localhost:8080/"
        },
        "id": "Gm97X-gnzH80",
        "outputId": "9bf74945-e59c-4047-9f9a-99bd2b9586c1"
      },
      "outputs": [
        {
          "output_type": "stream",
          "name": "stdout",
          "text": [
            "we have 1563 xml file in total\n"
          ]
        }
      ],
      "source": [
        "all_files_paths = getListOfFiles(\"/content/drive/My Drive/xml/xmls\")\n",
        "print(\"we have {} xml file in total\".format(len(all_files_paths)))"
      ]
    },
    {
      "cell_type": "code",
      "execution_count": 70,
      "metadata": {
        "id": "1EhG94qIzi6O"
      },
      "outputs": [],
      "source": [
        "\"\"\"\n",
        "Convert all xml files into pandas dataframe\n",
        "\"\"\"\n",
        "from tqdm import tqdm\n",
        "def convert_files(list_xml):\n",
        "  dfs = []\n",
        "  for file in tqdm(list_xml):\n",
        "    try:\n",
        "      df = parse_XML(file)\n",
        "      dfs.append(df)\n",
        "    except:\n",
        "      continue\n",
        "  df_total = pd.concat(dfs)\n",
        "  return df_total"
      ]
    },
    {
      "cell_type": "code",
      "execution_count": 71,
      "metadata": {
        "id": "w8YlEdkt0o0N",
        "colab": {
          "base_uri": "https://localhost:8080/"
        },
        "outputId": "38bfb4d2-8848-4dba-845e-fb7ef8e766fa"
      },
      "outputs": [
        {
          "output_type": "stream",
          "name": "stderr",
          "text": [
            "100%|██████████| 1563/1563 [00:20<00:00, 76.56it/s]\n"
          ]
        }
      ],
      "source": [
        "df_final = convert_files(all_files_paths)"
      ]
    },
    {
      "cell_type": "code",
      "execution_count": 72,
      "metadata": {
        "id": "X6K7bJZz7iW_",
        "colab": {
          "base_uri": "https://localhost:8080/"
        },
        "outputId": "862be036-0f85-4155-c8b9-12388953cc56"
      },
      "outputs": [
        {
          "output_type": "execute_result",
          "data": {
            "text/plain": [
              "(1554, 6)"
            ]
          },
          "metadata": {},
          "execution_count": 72
        }
      ],
      "source": [
        "df_final.shape"
      ]
    },
    {
      "cell_type": "code",
      "execution_count": 73,
      "metadata": {
        "id": "7BIwZHmN7pjY",
        "colab": {
          "base_uri": "https://localhost:8080/",
          "height": 206
        },
        "outputId": "789d6710-1d2e-441b-b92b-bea6dab6c487"
      },
      "outputs": [
        {
          "output_type": "execute_result",
          "data": {
            "text/plain": [
              "  election period    document type number document        date  \\\n",
              "0              10  PLENARPROTOKOLL            10/1  29.03.1983   \n",
              "0              10  PLENARPROTOKOLL            10/2  29.03.1983   \n",
              "0              10  PLENARPROTOKOLL            10/3  30.03.1983   \n",
              "0              10  PLENARPROTOKOLL            10/4  04.05.1983   \n",
              "0              10  PLENARPROTOKOLL            10/7  18.05.1983   \n",
              "\n",
              "                            title  \\\n",
              "0  Plenarprotokoll vom 29.03.1983   \n",
              "0  Plenarprotokoll vom 29.03.1983   \n",
              "0  Plenarprotokoll vom 30.03.1983   \n",
              "0  Plenarprotokoll vom 04.05.1983   \n",
              "0  Plenarprotokoll vom 18.05.1983   \n",
              "\n",
              "                                                text  \n",
              "0  Plenarprotokoll 10/1\\nDeutscher Bundestag\\nSte...  \n",
              "0  Plenarprotokoll 10/2\\nDeutscher Bundestag\\nSte...  \n",
              "0  Plenarprotokoll 10/3\\nDeutscher Bundestag\\nSte...  \n",
              "0  Plenarprotokoll 10/4\\nDeutscher Bundestag\\nSte...  \n",
              "0  Plenarprotokoll 10/7\\nDeutscher  Bundestag\\nSt...  "
            ],
            "text/html": [
              "\n",
              "  <div id=\"df-0e1ecdf7-a194-4725-8615-d7e4c61a7d30\">\n",
              "    <div class=\"colab-df-container\">\n",
              "      <div>\n",
              "<style scoped>\n",
              "    .dataframe tbody tr th:only-of-type {\n",
              "        vertical-align: middle;\n",
              "    }\n",
              "\n",
              "    .dataframe tbody tr th {\n",
              "        vertical-align: top;\n",
              "    }\n",
              "\n",
              "    .dataframe thead th {\n",
              "        text-align: right;\n",
              "    }\n",
              "</style>\n",
              "<table border=\"1\" class=\"dataframe\">\n",
              "  <thead>\n",
              "    <tr style=\"text-align: right;\">\n",
              "      <th></th>\n",
              "      <th>election period</th>\n",
              "      <th>document type</th>\n",
              "      <th>number document</th>\n",
              "      <th>date</th>\n",
              "      <th>title</th>\n",
              "      <th>text</th>\n",
              "    </tr>\n",
              "  </thead>\n",
              "  <tbody>\n",
              "    <tr>\n",
              "      <th>0</th>\n",
              "      <td>10</td>\n",
              "      <td>PLENARPROTOKOLL</td>\n",
              "      <td>10/1</td>\n",
              "      <td>29.03.1983</td>\n",
              "      <td>Plenarprotokoll vom 29.03.1983</td>\n",
              "      <td>Plenarprotokoll 10/1\\nDeutscher Bundestag\\nSte...</td>\n",
              "    </tr>\n",
              "    <tr>\n",
              "      <th>0</th>\n",
              "      <td>10</td>\n",
              "      <td>PLENARPROTOKOLL</td>\n",
              "      <td>10/2</td>\n",
              "      <td>29.03.1983</td>\n",
              "      <td>Plenarprotokoll vom 29.03.1983</td>\n",
              "      <td>Plenarprotokoll 10/2\\nDeutscher Bundestag\\nSte...</td>\n",
              "    </tr>\n",
              "    <tr>\n",
              "      <th>0</th>\n",
              "      <td>10</td>\n",
              "      <td>PLENARPROTOKOLL</td>\n",
              "      <td>10/3</td>\n",
              "      <td>30.03.1983</td>\n",
              "      <td>Plenarprotokoll vom 30.03.1983</td>\n",
              "      <td>Plenarprotokoll 10/3\\nDeutscher Bundestag\\nSte...</td>\n",
              "    </tr>\n",
              "    <tr>\n",
              "      <th>0</th>\n",
              "      <td>10</td>\n",
              "      <td>PLENARPROTOKOLL</td>\n",
              "      <td>10/4</td>\n",
              "      <td>04.05.1983</td>\n",
              "      <td>Plenarprotokoll vom 04.05.1983</td>\n",
              "      <td>Plenarprotokoll 10/4\\nDeutscher Bundestag\\nSte...</td>\n",
              "    </tr>\n",
              "    <tr>\n",
              "      <th>0</th>\n",
              "      <td>10</td>\n",
              "      <td>PLENARPROTOKOLL</td>\n",
              "      <td>10/7</td>\n",
              "      <td>18.05.1983</td>\n",
              "      <td>Plenarprotokoll vom 18.05.1983</td>\n",
              "      <td>Plenarprotokoll 10/7\\nDeutscher  Bundestag\\nSt...</td>\n",
              "    </tr>\n",
              "  </tbody>\n",
              "</table>\n",
              "</div>\n",
              "      <button class=\"colab-df-convert\" onclick=\"convertToInteractive('df-0e1ecdf7-a194-4725-8615-d7e4c61a7d30')\"\n",
              "              title=\"Convert this dataframe to an interactive table.\"\n",
              "              style=\"display:none;\">\n",
              "        \n",
              "  <svg xmlns=\"http://www.w3.org/2000/svg\" height=\"24px\"viewBox=\"0 0 24 24\"\n",
              "       width=\"24px\">\n",
              "    <path d=\"M0 0h24v24H0V0z\" fill=\"none\"/>\n",
              "    <path d=\"M18.56 5.44l.94 2.06.94-2.06 2.06-.94-2.06-.94-.94-2.06-.94 2.06-2.06.94zm-11 1L8.5 8.5l.94-2.06 2.06-.94-2.06-.94L8.5 2.5l-.94 2.06-2.06.94zm10 10l.94 2.06.94-2.06 2.06-.94-2.06-.94-.94-2.06-.94 2.06-2.06.94z\"/><path d=\"M17.41 7.96l-1.37-1.37c-.4-.4-.92-.59-1.43-.59-.52 0-1.04.2-1.43.59L10.3 9.45l-7.72 7.72c-.78.78-.78 2.05 0 2.83L4 21.41c.39.39.9.59 1.41.59.51 0 1.02-.2 1.41-.59l7.78-7.78 2.81-2.81c.8-.78.8-2.07 0-2.86zM5.41 20L4 18.59l7.72-7.72 1.47 1.35L5.41 20z\"/>\n",
              "  </svg>\n",
              "      </button>\n",
              "      \n",
              "  <style>\n",
              "    .colab-df-container {\n",
              "      display:flex;\n",
              "      flex-wrap:wrap;\n",
              "      gap: 12px;\n",
              "    }\n",
              "\n",
              "    .colab-df-convert {\n",
              "      background-color: #E8F0FE;\n",
              "      border: none;\n",
              "      border-radius: 50%;\n",
              "      cursor: pointer;\n",
              "      display: none;\n",
              "      fill: #1967D2;\n",
              "      height: 32px;\n",
              "      padding: 0 0 0 0;\n",
              "      width: 32px;\n",
              "    }\n",
              "\n",
              "    .colab-df-convert:hover {\n",
              "      background-color: #E2EBFA;\n",
              "      box-shadow: 0px 1px 2px rgba(60, 64, 67, 0.3), 0px 1px 3px 1px rgba(60, 64, 67, 0.15);\n",
              "      fill: #174EA6;\n",
              "    }\n",
              "\n",
              "    [theme=dark] .colab-df-convert {\n",
              "      background-color: #3B4455;\n",
              "      fill: #D2E3FC;\n",
              "    }\n",
              "\n",
              "    [theme=dark] .colab-df-convert:hover {\n",
              "      background-color: #434B5C;\n",
              "      box-shadow: 0px 1px 3px 1px rgba(0, 0, 0, 0.15);\n",
              "      filter: drop-shadow(0px 1px 2px rgba(0, 0, 0, 0.3));\n",
              "      fill: #FFFFFF;\n",
              "    }\n",
              "  </style>\n",
              "\n",
              "      <script>\n",
              "        const buttonEl =\n",
              "          document.querySelector('#df-0e1ecdf7-a194-4725-8615-d7e4c61a7d30 button.colab-df-convert');\n",
              "        buttonEl.style.display =\n",
              "          google.colab.kernel.accessAllowed ? 'block' : 'none';\n",
              "\n",
              "        async function convertToInteractive(key) {\n",
              "          const element = document.querySelector('#df-0e1ecdf7-a194-4725-8615-d7e4c61a7d30');\n",
              "          const dataTable =\n",
              "            await google.colab.kernel.invokeFunction('convertToInteractive',\n",
              "                                                     [key], {});\n",
              "          if (!dataTable) return;\n",
              "\n",
              "          const docLinkHtml = 'Like what you see? Visit the ' +\n",
              "            '<a target=\"_blank\" href=https://colab.research.google.com/notebooks/data_table.ipynb>data table notebook</a>'\n",
              "            + ' to learn more about interactive tables.';\n",
              "          element.innerHTML = '';\n",
              "          dataTable['output_type'] = 'display_data';\n",
              "          await google.colab.output.renderOutput(dataTable, element);\n",
              "          const docLink = document.createElement('div');\n",
              "          docLink.innerHTML = docLinkHtml;\n",
              "          element.appendChild(docLink);\n",
              "        }\n",
              "      </script>\n",
              "    </div>\n",
              "  </div>\n",
              "  "
            ]
          },
          "metadata": {},
          "execution_count": 73
        }
      ],
      "source": [
        "df_final.head()"
      ]
    },
    {
      "cell_type": "markdown",
      "metadata": {
        "id": "qwiv17Dz8Qkz"
      },
      "source": [
        "## Data Cleaning"
      ]
    },
    {
      "cell_type": "code",
      "execution_count": 74,
      "metadata": {
        "id": "brNnDUmuBtNX",
        "colab": {
          "base_uri": "https://localhost:8080/"
        },
        "outputId": "8485c6dd-5193-49f5-ec1b-af211b7af4d2"
      },
      "outputs": [
        {
          "output_type": "stream",
          "name": "stderr",
          "text": [
            "[nltk_data] Downloading package punkt to /root/nltk_data...\n",
            "[nltk_data]   Package punkt is already up-to-date!\n",
            "[nltk_data] Downloading package stopwords to /root/nltk_data...\n",
            "[nltk_data]   Package stopwords is already up-to-date!\n"
          ]
        }
      ],
      "source": [
        "import nltk\n",
        "nltk.download('punkt')\n",
        "nltk.download('stopwords')\n",
        "from nltk.stem.snowball import SnowballStemmer\n",
        "from nltk.tokenize import word_tokenize\n",
        "from nltk.corpus import stopwords\n",
        "import re\n",
        "\n",
        "stemmer = SnowballStemmer(\"german\")\n",
        "stop_words = set(stopwords.words(\"german\"))\n",
        "\n",
        "\n",
        "def clean_text(text, for_embedding=False):\n",
        "    \"\"\"\n",
        "        - remove any html tags (< /br> often found)\n",
        "        - Keep only ASCII + European Chars and whitespace, no digits\n",
        "        - remove single letter chars\n",
        "        - convert all whitespaces (tabs etc.) to single wspace\n",
        "        if not for embedding (but e.g. tdf-idf):\n",
        "        - all lowercase\n",
        "        - remove stopwords, punctuation and stemm\n",
        "    \"\"\"\n",
        "    RE_WSPACE = re.compile(r\"\\s+\", re.IGNORECASE)\n",
        "    RE_TAGS = re.compile(r\"<[^>]+>\")\n",
        "    RE_ASCII = re.compile(r\"[^A-Za-zÀ-ž ]\", re.IGNORECASE)\n",
        "    RE_SINGLECHAR = re.compile(r\"\\b[A-Za-zÀ-ž]\\b\", re.IGNORECASE)\n",
        "    if for_embedding:\n",
        "        # Keep punctuation\n",
        "        RE_ASCII = re.compile(r\"[^A-Za-zÀ-ž,.!? ]\", re.IGNORECASE)\n",
        "        RE_SINGLECHAR = re.compile(r\"\\b[A-Za-zÀ-ž,.!?]\\b\", re.IGNORECASE)\n",
        "\n",
        "    text = re.sub(RE_TAGS, \" \", text)\n",
        "    text = re.sub(RE_ASCII, \" \", text)\n",
        "    text = re.sub(RE_SINGLECHAR, \" \", text)\n",
        "    text = re.sub(RE_WSPACE, \" \", text)\n",
        "\n",
        "    word_tokens = word_tokenize(text)\n",
        "    words_tokens_lower = [word.lower() for word in word_tokens]\n",
        "\n",
        "    if for_embedding:\n",
        "        # no stemming, lowering and punctuation / stop words removal\n",
        "        words_filtered = word_tokens\n",
        "    else:\n",
        "        words_filtered = [\n",
        "            stemmer.stem(word) for word in words_tokens_lower if word not in stop_words\n",
        "        ]\n",
        "\n",
        "    text_clean = \" \".join(words_filtered)\n",
        "    return text_clean"
      ]
    },
    {
      "cell_type": "code",
      "execution_count": 75,
      "metadata": {
        "id": "uto0AMuvBtQS"
      },
      "outputs": [],
      "source": [
        "df_final[\"text_clean\"] = df_final[\"text\"].map(lambda x: clean_text(x, for_embedding=False) if isinstance(x, str) else x)"
      ]
    },
    {
      "cell_type": "code",
      "execution_count": 76,
      "metadata": {
        "id": "sMd9loh_KRLM"
      },
      "outputs": [],
      "source": [
        "df_final.to_csv('/content/drive/My Drive/xml/clean.csv',index=False)"
      ]
    },
    {
      "cell_type": "code",
      "execution_count": 77,
      "metadata": {
        "id": "ZedNrpEiKj80"
      },
      "outputs": [],
      "source": [
        "df_clean = df_final.drop('text',axis=1)"
      ]
    },
    {
      "cell_type": "code",
      "execution_count": 78,
      "metadata": {
        "id": "dE8Kyb-np1uk",
        "colab": {
          "base_uri": "https://localhost:8080/",
          "height": 354
        },
        "outputId": "aa741bf6-85dd-4436-da6f-b62fe3db1ca9"
      },
      "outputs": [
        {
          "output_type": "execute_result",
          "data": {
            "text/plain": [
              "  election period    document type number document        date  \\\n",
              "0              10  PLENARPROTOKOLL            10/1  29.03.1983   \n",
              "0              10  PLENARPROTOKOLL            10/2  29.03.1983   \n",
              "0              10  PLENARPROTOKOLL            10/3  30.03.1983   \n",
              "0              10  PLENARPROTOKOLL            10/4  04.05.1983   \n",
              "0              10  PLENARPROTOKOLL            10/7  18.05.1983   \n",
              "\n",
              "                            title  \\\n",
              "0  Plenarprotokoll vom 29.03.1983   \n",
              "0  Plenarprotokoll vom 29.03.1983   \n",
              "0  Plenarprotokoll vom 30.03.1983   \n",
              "0  Plenarprotokoll vom 04.05.1983   \n",
              "0  Plenarprotokoll vom 18.05.1983   \n",
              "\n",
              "                                                text  \\\n",
              "0  Plenarprotokoll 10/1\\nDeutscher Bundestag\\nSte...   \n",
              "0  Plenarprotokoll 10/2\\nDeutscher Bundestag\\nSte...   \n",
              "0  Plenarprotokoll 10/3\\nDeutscher Bundestag\\nSte...   \n",
              "0  Plenarprotokoll 10/4\\nDeutscher Bundestag\\nSte...   \n",
              "0  Plenarprotokoll 10/7\\nDeutscher  Bundestag\\nSt...   \n",
              "\n",
              "                                          text_clean  \n",
              "0  plenarprotokoll deutsch bundestag stenograph b...  \n",
              "0  plenarprotokoll deutsch bundestag stenograph b...  \n",
              "0  plenarprotokoll deutsch bundestag stenograph b...  \n",
              "0  plenarprotokoll deutsch bundestag stenograph b...  \n",
              "0  plenarprotokoll deutsch bundestag stenograph b...  "
            ],
            "text/html": [
              "\n",
              "  <div id=\"df-4e0ce8c6-ca42-485d-abb0-1779f3f5424c\">\n",
              "    <div class=\"colab-df-container\">\n",
              "      <div>\n",
              "<style scoped>\n",
              "    .dataframe tbody tr th:only-of-type {\n",
              "        vertical-align: middle;\n",
              "    }\n",
              "\n",
              "    .dataframe tbody tr th {\n",
              "        vertical-align: top;\n",
              "    }\n",
              "\n",
              "    .dataframe thead th {\n",
              "        text-align: right;\n",
              "    }\n",
              "</style>\n",
              "<table border=\"1\" class=\"dataframe\">\n",
              "  <thead>\n",
              "    <tr style=\"text-align: right;\">\n",
              "      <th></th>\n",
              "      <th>election period</th>\n",
              "      <th>document type</th>\n",
              "      <th>number document</th>\n",
              "      <th>date</th>\n",
              "      <th>title</th>\n",
              "      <th>text</th>\n",
              "      <th>text_clean</th>\n",
              "    </tr>\n",
              "  </thead>\n",
              "  <tbody>\n",
              "    <tr>\n",
              "      <th>0</th>\n",
              "      <td>10</td>\n",
              "      <td>PLENARPROTOKOLL</td>\n",
              "      <td>10/1</td>\n",
              "      <td>29.03.1983</td>\n",
              "      <td>Plenarprotokoll vom 29.03.1983</td>\n",
              "      <td>Plenarprotokoll 10/1\\nDeutscher Bundestag\\nSte...</td>\n",
              "      <td>plenarprotokoll deutsch bundestag stenograph b...</td>\n",
              "    </tr>\n",
              "    <tr>\n",
              "      <th>0</th>\n",
              "      <td>10</td>\n",
              "      <td>PLENARPROTOKOLL</td>\n",
              "      <td>10/2</td>\n",
              "      <td>29.03.1983</td>\n",
              "      <td>Plenarprotokoll vom 29.03.1983</td>\n",
              "      <td>Plenarprotokoll 10/2\\nDeutscher Bundestag\\nSte...</td>\n",
              "      <td>plenarprotokoll deutsch bundestag stenograph b...</td>\n",
              "    </tr>\n",
              "    <tr>\n",
              "      <th>0</th>\n",
              "      <td>10</td>\n",
              "      <td>PLENARPROTOKOLL</td>\n",
              "      <td>10/3</td>\n",
              "      <td>30.03.1983</td>\n",
              "      <td>Plenarprotokoll vom 30.03.1983</td>\n",
              "      <td>Plenarprotokoll 10/3\\nDeutscher Bundestag\\nSte...</td>\n",
              "      <td>plenarprotokoll deutsch bundestag stenograph b...</td>\n",
              "    </tr>\n",
              "    <tr>\n",
              "      <th>0</th>\n",
              "      <td>10</td>\n",
              "      <td>PLENARPROTOKOLL</td>\n",
              "      <td>10/4</td>\n",
              "      <td>04.05.1983</td>\n",
              "      <td>Plenarprotokoll vom 04.05.1983</td>\n",
              "      <td>Plenarprotokoll 10/4\\nDeutscher Bundestag\\nSte...</td>\n",
              "      <td>plenarprotokoll deutsch bundestag stenograph b...</td>\n",
              "    </tr>\n",
              "    <tr>\n",
              "      <th>0</th>\n",
              "      <td>10</td>\n",
              "      <td>PLENARPROTOKOLL</td>\n",
              "      <td>10/7</td>\n",
              "      <td>18.05.1983</td>\n",
              "      <td>Plenarprotokoll vom 18.05.1983</td>\n",
              "      <td>Plenarprotokoll 10/7\\nDeutscher  Bundestag\\nSt...</td>\n",
              "      <td>plenarprotokoll deutsch bundestag stenograph b...</td>\n",
              "    </tr>\n",
              "  </tbody>\n",
              "</table>\n",
              "</div>\n",
              "      <button class=\"colab-df-convert\" onclick=\"convertToInteractive('df-4e0ce8c6-ca42-485d-abb0-1779f3f5424c')\"\n",
              "              title=\"Convert this dataframe to an interactive table.\"\n",
              "              style=\"display:none;\">\n",
              "        \n",
              "  <svg xmlns=\"http://www.w3.org/2000/svg\" height=\"24px\"viewBox=\"0 0 24 24\"\n",
              "       width=\"24px\">\n",
              "    <path d=\"M0 0h24v24H0V0z\" fill=\"none\"/>\n",
              "    <path d=\"M18.56 5.44l.94 2.06.94-2.06 2.06-.94-2.06-.94-.94-2.06-.94 2.06-2.06.94zm-11 1L8.5 8.5l.94-2.06 2.06-.94-2.06-.94L8.5 2.5l-.94 2.06-2.06.94zm10 10l.94 2.06.94-2.06 2.06-.94-2.06-.94-.94-2.06-.94 2.06-2.06.94z\"/><path d=\"M17.41 7.96l-1.37-1.37c-.4-.4-.92-.59-1.43-.59-.52 0-1.04.2-1.43.59L10.3 9.45l-7.72 7.72c-.78.78-.78 2.05 0 2.83L4 21.41c.39.39.9.59 1.41.59.51 0 1.02-.2 1.41-.59l7.78-7.78 2.81-2.81c.8-.78.8-2.07 0-2.86zM5.41 20L4 18.59l7.72-7.72 1.47 1.35L5.41 20z\"/>\n",
              "  </svg>\n",
              "      </button>\n",
              "      \n",
              "  <style>\n",
              "    .colab-df-container {\n",
              "      display:flex;\n",
              "      flex-wrap:wrap;\n",
              "      gap: 12px;\n",
              "    }\n",
              "\n",
              "    .colab-df-convert {\n",
              "      background-color: #E8F0FE;\n",
              "      border: none;\n",
              "      border-radius: 50%;\n",
              "      cursor: pointer;\n",
              "      display: none;\n",
              "      fill: #1967D2;\n",
              "      height: 32px;\n",
              "      padding: 0 0 0 0;\n",
              "      width: 32px;\n",
              "    }\n",
              "\n",
              "    .colab-df-convert:hover {\n",
              "      background-color: #E2EBFA;\n",
              "      box-shadow: 0px 1px 2px rgba(60, 64, 67, 0.3), 0px 1px 3px 1px rgba(60, 64, 67, 0.15);\n",
              "      fill: #174EA6;\n",
              "    }\n",
              "\n",
              "    [theme=dark] .colab-df-convert {\n",
              "      background-color: #3B4455;\n",
              "      fill: #D2E3FC;\n",
              "    }\n",
              "\n",
              "    [theme=dark] .colab-df-convert:hover {\n",
              "      background-color: #434B5C;\n",
              "      box-shadow: 0px 1px 3px 1px rgba(0, 0, 0, 0.15);\n",
              "      filter: drop-shadow(0px 1px 2px rgba(0, 0, 0, 0.3));\n",
              "      fill: #FFFFFF;\n",
              "    }\n",
              "  </style>\n",
              "\n",
              "      <script>\n",
              "        const buttonEl =\n",
              "          document.querySelector('#df-4e0ce8c6-ca42-485d-abb0-1779f3f5424c button.colab-df-convert');\n",
              "        buttonEl.style.display =\n",
              "          google.colab.kernel.accessAllowed ? 'block' : 'none';\n",
              "\n",
              "        async function convertToInteractive(key) {\n",
              "          const element = document.querySelector('#df-4e0ce8c6-ca42-485d-abb0-1779f3f5424c');\n",
              "          const dataTable =\n",
              "            await google.colab.kernel.invokeFunction('convertToInteractive',\n",
              "                                                     [key], {});\n",
              "          if (!dataTable) return;\n",
              "\n",
              "          const docLinkHtml = 'Like what you see? Visit the ' +\n",
              "            '<a target=\"_blank\" href=https://colab.research.google.com/notebooks/data_table.ipynb>data table notebook</a>'\n",
              "            + ' to learn more about interactive tables.';\n",
              "          element.innerHTML = '';\n",
              "          dataTable['output_type'] = 'display_data';\n",
              "          await google.colab.output.renderOutput(dataTable, element);\n",
              "          const docLink = document.createElement('div');\n",
              "          docLink.innerHTML = docLinkHtml;\n",
              "          element.appendChild(docLink);\n",
              "        }\n",
              "      </script>\n",
              "    </div>\n",
              "  </div>\n",
              "  "
            ]
          },
          "metadata": {},
          "execution_count": 78
        }
      ],
      "source": [
        "df_final.head()"
      ]
    },
    {
      "cell_type": "markdown",
      "metadata": {
        "id": "ADuR-RcoLSfb"
      },
      "source": [
        "# Analysis"
      ]
    },
    {
      "cell_type": "code",
      "execution_count": 79,
      "metadata": {
        "id": "Orm-oTwZPJnE"
      },
      "outputs": [],
      "source": [
        "import pandas as pd"
      ]
    },
    {
      "cell_type": "code",
      "execution_count": 80,
      "metadata": {
        "id": "Fs76I5E-v-dd"
      },
      "outputs": [],
      "source": [
        "df_final = pd.read_csv('/content/drive/My Drive/xml/clean.csv').drop('text',axis=1)"
      ]
    },
    {
      "cell_type": "markdown",
      "metadata": {
        "id": "ArIJN_k1sN0T"
      },
      "source": [
        "### Model Training (Word2Vec model)\n",
        "\n",
        "In this section we will train our word2vec model"
      ]
    },
    {
      "cell_type": "code",
      "execution_count": 81,
      "metadata": {
        "id": "o7Lc5vavsSVo"
      },
      "outputs": [],
      "source": [
        "import multiprocessing\n",
        "from gensim.models import Word2Vec\n",
        "from gensim.models.phrases import Phrases, Phraser"
      ]
    },
    {
      "cell_type": "code",
      "source": [
        "\"\"\"multiprocessing is a package that supports spawning processes using an API similar to the threading module.\"\"\"\n"
      ],
      "metadata": {
        "id": "lY6RFHl0RXZc",
        "colab": {
          "base_uri": "https://localhost:8080/",
          "height": 35
        },
        "outputId": "7e2fdf38-d668-4372-f03f-575a6b1e77c2"
      },
      "execution_count": 82,
      "outputs": [
        {
          "output_type": "execute_result",
          "data": {
            "text/plain": [
              "'multiprocessing is a package that supports spawning processes using an API similar to the threading module.'"
            ],
            "application/vnd.google.colaboratory.intrinsic+json": {
              "type": "string"
            }
          },
          "metadata": {},
          "execution_count": 82
        }
      ]
    },
    {
      "cell_type": "code",
      "execution_count": 83,
      "metadata": {
        "id": "K8w7WRlRuE0l"
      },
      "outputs": [],
      "source": [
        "sent = [row.split() for row in df_final['text_clean']]"
      ]
    },
    {
      "cell_type": "code",
      "execution_count": 84,
      "metadata": {
        "id": "6DgQEzvouJ3W"
      },
      "outputs": [],
      "source": [
        "phrases = Phrases(sent, min_count=30, progress_per=10000)"
      ]
    },
    {
      "cell_type": "code",
      "execution_count": 85,
      "metadata": {
        "id": "gV6BLdWXuJ6W"
      },
      "outputs": [],
      "source": [
        "bigram = Phraser(phrases)"
      ]
    },
    {
      "cell_type": "code",
      "execution_count": 86,
      "metadata": {
        "id": "jwPJ3EXyuTvo"
      },
      "outputs": [],
      "source": [
        "sentences = bigram[sent]"
      ]
    },
    {
      "cell_type": "code",
      "execution_count": 87,
      "metadata": {
        "id": "UFY-UzymueLe"
      },
      "outputs": [],
      "source": [
        "cores = multiprocessing.cpu_count()"
      ]
    },
    {
      "cell_type": "code",
      "execution_count": 88,
      "metadata": {
        "id": "xn5FHc87w-jN"
      },
      "outputs": [],
      "source": [
        "w2v_model = Word2Vec(min_count=20,\n",
        "                     window=2,\n",
        "                     size=100,\n",
        "                     workers=cores-1)"
      ]
    },
    {
      "cell_type": "code",
      "execution_count": 89,
      "metadata": {
        "id": "czIlA4Smuibn",
        "colab": {
          "base_uri": "https://localhost:8080/"
        },
        "outputId": "3dc179ae-63ae-40fe-8070-8bc42e4e5b87"
      },
      "outputs": [
        {
          "output_type": "stream",
          "name": "stdout",
          "text": [
            "Time to build vocab: 0.58 mins\n"
          ]
        }
      ],
      "source": [
        "from time import time\n",
        "t = time()\n",
        "w2v_model.build_vocab(sent, progress_per=10000)\n",
        "print('Time to build vocab: {} mins'.format(round((time() - t) / 60, 2)))"
      ]
    },
    {
      "cell_type": "code",
      "execution_count": 90,
      "metadata": {
        "id": "ziLV7dwCuleL",
        "colab": {
          "base_uri": "https://localhost:8080/"
        },
        "outputId": "bdd61b86-2663-4e77-b469-0a6161057aeb"
      },
      "outputs": [
        {
          "output_type": "stream",
          "name": "stdout",
          "text": [
            "Time to train the model: 1.66 mins\n"
          ]
        }
      ],
      "source": [
        "t = time()\n",
        "w2v_model.train(sent, total_examples=w2v_model.corpus_count, epochs=5, report_delay=1)\n",
        "print('Time to train the model: {} mins'.format(round((time() - t) / 60, 2)))"
      ]
    },
    {
      "cell_type": "code",
      "execution_count": 91,
      "metadata": {
        "id": "xbNDLyZUyYfI"
      },
      "outputs": [],
      "source": [
        "w2v_model.init_sims(replace=True)"
      ]
    },
    {
      "cell_type": "code",
      "execution_count": 92,
      "metadata": {
        "id": "cmMHQ51ZyYir"
      },
      "outputs": [],
      "source": [
        "w2v_model.save(\"/content/drive/My Drive/xml/models/word2vec2.model\")"
      ]
    },
    {
      "cell_type": "markdown",
      "metadata": {
        "id": "tmgfwkvKziLo"
      },
      "source": [
        "### Word extraction"
      ]
    },
    {
      "cell_type": "code",
      "execution_count": 93,
      "metadata": {
        "id": "KOE0PZmWbpOC",
        "colab": {
          "base_uri": "https://localhost:8080/"
        },
        "outputId": "78fcb618-d5ae-432a-a993-e57a58163895"
      },
      "outputs": [
        {
          "output_type": "stream",
          "name": "stdout",
          "text": [
            "Looking in indexes: https://pypi.org/simple, https://us-python.pkg.dev/colab-wheels/public/simple/\n",
            "Requirement already satisfied: googletrans==3.1.0a0 in /usr/local/lib/python3.7/dist-packages (3.1.0a0)\n",
            "Requirement already satisfied: httpx==0.13.3 in /usr/local/lib/python3.7/dist-packages (from googletrans==3.1.0a0) (0.13.3)\n",
            "Requirement already satisfied: sniffio in /usr/local/lib/python3.7/dist-packages (from httpx==0.13.3->googletrans==3.1.0a0) (1.2.0)\n",
            "Requirement already satisfied: idna==2.* in /usr/local/lib/python3.7/dist-packages (from httpx==0.13.3->googletrans==3.1.0a0) (2.10)\n",
            "Requirement already satisfied: rfc3986<2,>=1.3 in /usr/local/lib/python3.7/dist-packages (from httpx==0.13.3->googletrans==3.1.0a0) (1.5.0)\n",
            "Requirement already satisfied: certifi in /usr/local/lib/python3.7/dist-packages (from httpx==0.13.3->googletrans==3.1.0a0) (2022.6.15)\n",
            "Requirement already satisfied: httpcore==0.9.* in /usr/local/lib/python3.7/dist-packages (from httpx==0.13.3->googletrans==3.1.0a0) (0.9.1)\n",
            "Requirement already satisfied: chardet==3.* in /usr/local/lib/python3.7/dist-packages (from httpx==0.13.3->googletrans==3.1.0a0) (3.0.4)\n",
            "Requirement already satisfied: hstspreload in /usr/local/lib/python3.7/dist-packages (from httpx==0.13.3->googletrans==3.1.0a0) (2022.8.1)\n",
            "Requirement already satisfied: h11<0.10,>=0.8 in /usr/local/lib/python3.7/dist-packages (from httpcore==0.9.*->httpx==0.13.3->googletrans==3.1.0a0) (0.9.0)\n",
            "Requirement already satisfied: h2==3.* in /usr/local/lib/python3.7/dist-packages (from httpcore==0.9.*->httpx==0.13.3->googletrans==3.1.0a0) (3.2.0)\n",
            "Requirement already satisfied: hpack<4,>=3.0 in /usr/local/lib/python3.7/dist-packages (from h2==3.*->httpcore==0.9.*->httpx==0.13.3->googletrans==3.1.0a0) (3.0.0)\n",
            "Requirement already satisfied: hyperframe<6,>=5.2.0 in /usr/local/lib/python3.7/dist-packages (from h2==3.*->httpcore==0.9.*->httpx==0.13.3->googletrans==3.1.0a0) (5.2.0)\n"
          ]
        }
      ],
      "source": [
        "!pip install googletrans==3.1.0a0"
      ]
    },
    {
      "cell_type": "code",
      "execution_count": 94,
      "metadata": {
        "id": "748jqH6PzkRn"
      },
      "outputs": [],
      "source": [
        "import gensim\n",
        "mvk = gensim.models.Word2Vec.load(\"/content/drive/My Drive/xml/models/word2vec2.model\")"
      ]
    },
    {
      "cell_type": "code",
      "execution_count": 95,
      "metadata": {
        "id": "FsAjmGwjbvm1"
      },
      "outputs": [],
      "source": [
        "from googletrans import Translator\n",
        "translator = Translator()"
      ]
    },
    {
      "cell_type": "code",
      "execution_count": 96,
      "metadata": {
        "id": "_d_Atp80rswc"
      },
      "outputs": [],
      "source": [
        "all = ['deutsch', 'deutscher', 'deutsche', #'deutschland',\n",
        "       'türkisch', 'türke', 'türken', #'türkei',\n",
        "       'polnisch', 'polin', 'pole', #'polen',\n",
        "       'russen', 'russisch', 'russin', #'russland',\n",
        "       'griechisch', 'grieche', 'griechen', #'griechenland',\n",
        "       'rumänisch', 'rumäne', 'rumänen', #'rumänien',\n",
        "       'arabisch',\n",
        "       'italienisch', 'italiäner', #'italien',\n",
        "       'syrisch', 'syrer', 'syrien',\n",
        "       'niederländisch', 'niederländer', #'niederlande', 'holland',\n",
        "       'marokkanisch', 'marokkaner', #'marokko',\n",
        "       'somali', 'somalien',\n",
        "       'afghanisch', 'afghane', 'afghanen', #'afghanistan',\n",
        "       'irakisch', 'irake', 'iraken', #'irak',\n",
        "       'ausländer', 'einwanderer', 'flüchtling', 'flüchtlinge', 'migrant']"
      ]
    },
    {
      "cell_type": "markdown",
      "source": [
        "### Compute frequency"
      ],
      "metadata": {
        "id": "7mbp7es6N8ba"
      }
    },
    {
      "cell_type": "code",
      "source": [
        "from googletrans import Translator"
      ],
      "metadata": {
        "id": "LtEtKgxHBozo"
      },
      "execution_count": 97,
      "outputs": []
    },
    {
      "cell_type": "code",
      "execution_count": 98,
      "metadata": {
        "id": "LrapQGRDlMPr"
      },
      "outputs": [],
      "source": [
        "list_word_german1 = []\n",
        "for l in all:\n",
        "  list_word_german1.append(translator.translate(l, dest='german').text)\n",
        "all = all+list_word_german1"
      ]
    },
    {
      "cell_type": "code",
      "execution_count": 99,
      "metadata": {
        "id": "n4f9E1q7eBuS"
      },
      "outputs": [],
      "source": [
        "def compute_frequency(word_list):\n",
        "  dict_r = {}\n",
        "  for wordd in word_list:\n",
        "    sum_freq = 0\n",
        "    for word in [wordd,wordd+'s']:\n",
        "      try:\n",
        "        freq_words = [x[0] for x in mvk.wv.most_similar(positive=word, topn=100)]\n",
        "        for f in freq_words:\n",
        "          freq = mvk.wv.vocab[f].count\n",
        "          sum_freq+=freq\n",
        "        dict_r[wordd] = sum_freq\n",
        "      except:\n",
        "        continue\n",
        "  return dict_r"
      ]
    },
    {
      "cell_type": "code",
      "source": [
        "frequencies = compute_frequency(all)\n",
        "frequencies"
      ],
      "metadata": {
        "id": "o89HI2RI3Flq",
        "colab": {
          "base_uri": "https://localhost:8080/"
        },
        "outputId": "45f97134-f668-46ff-db5f-c9fe0d0599be"
      },
      "execution_count": 100,
      "outputs": [
        {
          "output_type": "execute_result",
          "data": {
            "text/plain": [
              "{'deutsch': 412846,\n",
              " 'polnisch': 98626,\n",
              " 'russisch': 95965,\n",
              " 'griechisch': 64221,\n",
              " 'syrisch': 61042,\n",
              " 'somali': 8195,\n",
              " 'migrant': 97239}"
            ]
          },
          "metadata": {},
          "execution_count": 100
        }
      ]
    },
    {
      "cell_type": "code",
      "source": [
        "groupss = {'deutsch':'ingroup','griechisch':'outgroup','migrant':'outgroup','polnisch':'outgroup','somali':'outgroup','syrisch':'outgroup','russisch':'outgroup'}"
      ],
      "metadata": {
        "id": "wxyhyMkDs434"
      },
      "execution_count": 101,
      "outputs": []
    },
    {
      "cell_type": "markdown",
      "source": [
        "### Compute High-threat and low status\n",
        "\n"
      ],
      "metadata": {
        "id": "lK0Q0HplN_nO"
      }
    },
    {
      "cell_type": "code",
      "source": [
        "import multiprocessing\n",
        "from gensim.models import Word2Vec\n",
        "from gensim.models.phrases import Phrases, Phraser"
      ],
      "metadata": {
        "id": "XeiUUT6lBzKF"
      },
      "execution_count": 102,
      "outputs": []
    },
    {
      "cell_type": "code",
      "source": [
        "import re\n",
        "high_treat_words =  open(\"/content/drive/My Drive/xml/ressources/high threat.txt\",\"r\").read()\n",
        "low_status       =  open(\"/content/drive/My Drive/xml/ressources/low statuts.txt\",\"r\").read()\n",
        "crime            =  open(\"/content/drive/My Drive/xml/ressources/crime.txt\",\"r\").read()\n",
        "\n",
        "high_treat_words =  [i.lstrip() for i in re.sub('\\s+',' ',high_treat_words).split(',') ]\n",
        "low_status       =  [i.lstrip() for i in re.sub('\\s+',' ',low_status).split(',')]\n",
        "crime       = crime.split('\\n')\n",
        "high_treat_words = high_treat_words+crime\n",
        "low_status_trans = []\n",
        "high_treat_trans  = []\n",
        "for l in low_status:\n",
        "  low_status_trans.append(translator.translate(l, dest='german').text)\n",
        "for l in high_treat_words:\n",
        "  high_treat_trans.append(translator.translate(l, dest='german').text)\n",
        "for l in crime:\n",
        "  high_treat_trans.append(translator.translate(l, dest='german').text)\n",
        "high_threat_all = high_treat_trans + high_treat_words\n",
        "low_status_all  = low_status_trans + low_status"
      ],
      "metadata": {
        "id": "fT9FZHsdOO_7"
      },
      "execution_count": 103,
      "outputs": []
    },
    {
      "cell_type": "code",
      "source": [
        "import itertools\n",
        "tars = list(frequencies.keys())\n",
        "def get_scores(inputt):\n",
        "  scores = {}\n",
        "  for tar in tars:\n",
        "    sum = 0\n",
        "    for pair in inputt:\n",
        "        try:\n",
        "          resultaat_tel = mvk.wv.similarity(pair,tar)\n",
        "        except KeyError:\n",
        "          resultaat_tel = 0\n",
        "        sum+=resultaat_tel\n",
        "    scores[tar] = sum/len(inputt)\n",
        "  return scores"
      ],
      "metadata": {
        "id": "W2PB2oWvOPLm"
      },
      "execution_count": 104,
      "outputs": []
    },
    {
      "cell_type": "code",
      "source": [
        "\n",
        "df_results = pd.DataFrame()\n",
        "df_results['names'] = list(frequencies.keys())\n",
        "df_results['frequencies'] = list(frequencies.values())\n",
        "df_results['groups'] = ['ingroup','outgroup','outgroup','outgroup','outgroup','outgroup','outgroup']\n",
        "scores_lowstatus  = get_scores(low_status_all)\n",
        "scores_highthreat = get_scores(high_threat_all)\n",
        "df_results['scores_lowstatus']  = [x*10 for x in list(scores_lowstatus.values())]\n",
        "df_results['scores_highthreat'] = [x*10 for x in list(scores_highthreat.values())]\n",
        "df_results[\"names:group\"] = df_results[\"names\"] + '/'+ df_results[\"groups\"]\n",
        "df_results.drop(['names','groups'],axis=1,inplace=True)\n",
        "df_results"
      ],
      "metadata": {
        "id": "ZnAWayMoaVt4",
        "colab": {
          "base_uri": "https://localhost:8080/",
          "height": 269
        },
        "outputId": "f48ab66d-b2f7-4d90-f105-c0d6e4a5f32c"
      },
      "execution_count": 105,
      "outputs": [
        {
          "output_type": "execute_result",
          "data": {
            "text/plain": [
              "   frequencies  scores_lowstatus  scores_highthreat          names:group\n",
              "0       412846          0.007337           0.007676      deutsch/ingroup\n",
              "1        98626          0.029516           0.032218    polnisch/outgroup\n",
              "2        95965          0.060126           0.056416    russisch/outgroup\n",
              "3        64221          0.083180           0.041701  griechisch/outgroup\n",
              "4        61042          0.112697           0.081054     syrisch/outgroup\n",
              "5         8195          0.175606           0.081452      somali/outgroup\n",
              "6        97239          0.168547           0.057149     migrant/outgroup"
            ],
            "text/html": [
              "\n",
              "  <div id=\"df-fb9df831-9820-4d59-b290-3ff834507d19\">\n",
              "    <div class=\"colab-df-container\">\n",
              "      <div>\n",
              "<style scoped>\n",
              "    .dataframe tbody tr th:only-of-type {\n",
              "        vertical-align: middle;\n",
              "    }\n",
              "\n",
              "    .dataframe tbody tr th {\n",
              "        vertical-align: top;\n",
              "    }\n",
              "\n",
              "    .dataframe thead th {\n",
              "        text-align: right;\n",
              "    }\n",
              "</style>\n",
              "<table border=\"1\" class=\"dataframe\">\n",
              "  <thead>\n",
              "    <tr style=\"text-align: right;\">\n",
              "      <th></th>\n",
              "      <th>frequencies</th>\n",
              "      <th>scores_lowstatus</th>\n",
              "      <th>scores_highthreat</th>\n",
              "      <th>names:group</th>\n",
              "    </tr>\n",
              "  </thead>\n",
              "  <tbody>\n",
              "    <tr>\n",
              "      <th>0</th>\n",
              "      <td>412846</td>\n",
              "      <td>0.007337</td>\n",
              "      <td>0.007676</td>\n",
              "      <td>deutsch/ingroup</td>\n",
              "    </tr>\n",
              "    <tr>\n",
              "      <th>1</th>\n",
              "      <td>98626</td>\n",
              "      <td>0.029516</td>\n",
              "      <td>0.032218</td>\n",
              "      <td>polnisch/outgroup</td>\n",
              "    </tr>\n",
              "    <tr>\n",
              "      <th>2</th>\n",
              "      <td>95965</td>\n",
              "      <td>0.060126</td>\n",
              "      <td>0.056416</td>\n",
              "      <td>russisch/outgroup</td>\n",
              "    </tr>\n",
              "    <tr>\n",
              "      <th>3</th>\n",
              "      <td>64221</td>\n",
              "      <td>0.083180</td>\n",
              "      <td>0.041701</td>\n",
              "      <td>griechisch/outgroup</td>\n",
              "    </tr>\n",
              "    <tr>\n",
              "      <th>4</th>\n",
              "      <td>61042</td>\n",
              "      <td>0.112697</td>\n",
              "      <td>0.081054</td>\n",
              "      <td>syrisch/outgroup</td>\n",
              "    </tr>\n",
              "    <tr>\n",
              "      <th>5</th>\n",
              "      <td>8195</td>\n",
              "      <td>0.175606</td>\n",
              "      <td>0.081452</td>\n",
              "      <td>somali/outgroup</td>\n",
              "    </tr>\n",
              "    <tr>\n",
              "      <th>6</th>\n",
              "      <td>97239</td>\n",
              "      <td>0.168547</td>\n",
              "      <td>0.057149</td>\n",
              "      <td>migrant/outgroup</td>\n",
              "    </tr>\n",
              "  </tbody>\n",
              "</table>\n",
              "</div>\n",
              "      <button class=\"colab-df-convert\" onclick=\"convertToInteractive('df-fb9df831-9820-4d59-b290-3ff834507d19')\"\n",
              "              title=\"Convert this dataframe to an interactive table.\"\n",
              "              style=\"display:none;\">\n",
              "        \n",
              "  <svg xmlns=\"http://www.w3.org/2000/svg\" height=\"24px\"viewBox=\"0 0 24 24\"\n",
              "       width=\"24px\">\n",
              "    <path d=\"M0 0h24v24H0V0z\" fill=\"none\"/>\n",
              "    <path d=\"M18.56 5.44l.94 2.06.94-2.06 2.06-.94-2.06-.94-.94-2.06-.94 2.06-2.06.94zm-11 1L8.5 8.5l.94-2.06 2.06-.94-2.06-.94L8.5 2.5l-.94 2.06-2.06.94zm10 10l.94 2.06.94-2.06 2.06-.94-2.06-.94-.94-2.06-.94 2.06-2.06.94z\"/><path d=\"M17.41 7.96l-1.37-1.37c-.4-.4-.92-.59-1.43-.59-.52 0-1.04.2-1.43.59L10.3 9.45l-7.72 7.72c-.78.78-.78 2.05 0 2.83L4 21.41c.39.39.9.59 1.41.59.51 0 1.02-.2 1.41-.59l7.78-7.78 2.81-2.81c.8-.78.8-2.07 0-2.86zM5.41 20L4 18.59l7.72-7.72 1.47 1.35L5.41 20z\"/>\n",
              "  </svg>\n",
              "      </button>\n",
              "      \n",
              "  <style>\n",
              "    .colab-df-container {\n",
              "      display:flex;\n",
              "      flex-wrap:wrap;\n",
              "      gap: 12px;\n",
              "    }\n",
              "\n",
              "    .colab-df-convert {\n",
              "      background-color: #E8F0FE;\n",
              "      border: none;\n",
              "      border-radius: 50%;\n",
              "      cursor: pointer;\n",
              "      display: none;\n",
              "      fill: #1967D2;\n",
              "      height: 32px;\n",
              "      padding: 0 0 0 0;\n",
              "      width: 32px;\n",
              "    }\n",
              "\n",
              "    .colab-df-convert:hover {\n",
              "      background-color: #E2EBFA;\n",
              "      box-shadow: 0px 1px 2px rgba(60, 64, 67, 0.3), 0px 1px 3px 1px rgba(60, 64, 67, 0.15);\n",
              "      fill: #174EA6;\n",
              "    }\n",
              "\n",
              "    [theme=dark] .colab-df-convert {\n",
              "      background-color: #3B4455;\n",
              "      fill: #D2E3FC;\n",
              "    }\n",
              "\n",
              "    [theme=dark] .colab-df-convert:hover {\n",
              "      background-color: #434B5C;\n",
              "      box-shadow: 0px 1px 3px 1px rgba(0, 0, 0, 0.15);\n",
              "      filter: drop-shadow(0px 1px 2px rgba(0, 0, 0, 0.3));\n",
              "      fill: #FFFFFF;\n",
              "    }\n",
              "  </style>\n",
              "\n",
              "      <script>\n",
              "        const buttonEl =\n",
              "          document.querySelector('#df-fb9df831-9820-4d59-b290-3ff834507d19 button.colab-df-convert');\n",
              "        buttonEl.style.display =\n",
              "          google.colab.kernel.accessAllowed ? 'block' : 'none';\n",
              "\n",
              "        async function convertToInteractive(key) {\n",
              "          const element = document.querySelector('#df-fb9df831-9820-4d59-b290-3ff834507d19');\n",
              "          const dataTable =\n",
              "            await google.colab.kernel.invokeFunction('convertToInteractive',\n",
              "                                                     [key], {});\n",
              "          if (!dataTable) return;\n",
              "\n",
              "          const docLinkHtml = 'Like what you see? Visit the ' +\n",
              "            '<a target=\"_blank\" href=https://colab.research.google.com/notebooks/data_table.ipynb>data table notebook</a>'\n",
              "            + ' to learn more about interactive tables.';\n",
              "          element.innerHTML = '';\n",
              "          dataTable['output_type'] = 'display_data';\n",
              "          await google.colab.output.renderOutput(dataTable, element);\n",
              "          const docLink = document.createElement('div');\n",
              "          docLink.innerHTML = docLinkHtml;\n",
              "          element.appendChild(docLink);\n",
              "        }\n",
              "      </script>\n",
              "    </div>\n",
              "  </div>\n",
              "  "
            ]
          },
          "metadata": {},
          "execution_count": 105
        }
      ]
    },
    {
      "cell_type": "code",
      "source": [
        "import seaborn as sns\n",
        "import matplotlib.pyplot as plt\n",
        "plt.figure(figsize=(15,5))\n",
        "sns.scatterplot(data=df_results,x='scores_lowstatus',y='scores_highthreat',hue=\"names:group\",size=\"frequencies\")"
      ],
      "metadata": {
        "id": "Z9JGRs4_KbYJ",
        "colab": {
          "base_uri": "https://localhost:8080/",
          "height": 353
        },
        "outputId": "047104b9-3c50-4761-e231-89ba97c20a6b"
      },
      "execution_count": 106,
      "outputs": [
        {
          "output_type": "execute_result",
          "data": {
            "text/plain": [
              "<matplotlib.axes._subplots.AxesSubplot at 0x7f807e0b2c90>"
            ]
          },
          "metadata": {},
          "execution_count": 106
        },
        {
          "output_type": "display_data",
          "data": {
            "text/plain": [
              "<Figure size 1080x360 with 1 Axes>"
            ],
            "image/png": "[encoded data removed]"
          },
          "metadata": {
            "needs_background": "light"
          }
        }
      ]
    },
    {
      "cell_type": "code",
      "source": [
        "del mvk"
      ],
      "metadata": {
        "id": "G9agZyaRCNAT"
      },
      "execution_count": 107,
      "outputs": []
    },
    {
      "cell_type": "markdown",
      "source": [
        "### Over Time analysis"
      ],
      "metadata": {
        "id": "wIuPJEKcUUC0"
      }
    },
    {
      "cell_type": "code",
      "source": [
        "df_final.head(-1)"
      ],
      "metadata": {
        "id": "ptpm4BZ2UjBB",
        "colab": {
          "base_uri": "https://localhost:8080/",
          "height": 424
        },
        "outputId": "33174adc-d666-4c67-f43a-7ae48fb17ba5"
      },
      "execution_count": 108,
      "outputs": [
        {
          "output_type": "execute_result",
          "data": {
            "text/plain": [
              "      election period    document type number document        date  \\\n",
              "0                  10  PLENARPROTOKOLL            10/1  29.03.1983   \n",
              "1                  10  PLENARPROTOKOLL            10/2  29.03.1983   \n",
              "2                  10  PLENARPROTOKOLL            10/3  30.03.1983   \n",
              "3                  10  PLENARPROTOKOLL            10/4  04.05.1983   \n",
              "4                  10  PLENARPROTOKOLL            10/7  18.05.1983   \n",
              "...               ...              ...             ...         ...   \n",
              "1548               17  PLENARPROTOKOLL           17/92  23.02.2011   \n",
              "1549               17  PLENARPROTOKOLL          17/101  06.04.2011   \n",
              "1550               17  PLENARPROTOKOLL           17/94  25.02.2011   \n",
              "1551               17  PLENARPROTOKOLL           17/97  18.03.2011   \n",
              "1552               17  PLENARPROTOKOLL           17/99  24.03.2011   \n",
              "\n",
              "                               title  \\\n",
              "0     Plenarprotokoll vom 29.03.1983   \n",
              "1     Plenarprotokoll vom 29.03.1983   \n",
              "2     Plenarprotokoll vom 30.03.1983   \n",
              "3     Plenarprotokoll vom 04.05.1983   \n",
              "4     Plenarprotokoll vom 18.05.1983   \n",
              "...                              ...   \n",
              "1548  Plenarprotokoll vom 23.02.2011   \n",
              "1549  Plenarprotokoll vom 06.04.2011   \n",
              "1550  Plenarprotokoll vom 25.02.2011   \n",
              "1551  Plenarprotokoll vom 18.03.2011   \n",
              "1552  Plenarprotokoll vom 24.03.2011   \n",
              "\n",
              "                                             text_clean  \n",
              "0     plenarprotokoll deutsch bundestag stenograph b...  \n",
              "1     plenarprotokoll deutsch bundestag stenograph b...  \n",
              "2     plenarprotokoll deutsch bundestag stenograph b...  \n",
              "3     plenarprotokoll deutsch bundestag stenograph b...  \n",
              "4     plenarprotokoll deutsch bundestag stenograph b...  \n",
              "...                                                 ...  \n",
              "1548  plenarprotokoll deutsch bundestag stenograf be...  \n",
              "1549  plenarprotokoll deutsch bundestag stenograf be...  \n",
              "1550  plenarprotokoll deutsch bundestag stenograf be...  \n",
              "1551  plenarprotokoll deutsch bundestag stenograf be...  \n",
              "1552  plenarprotokoll deutsch bundestag stenograf be...  \n",
              "\n",
              "[1553 rows x 6 columns]"
            ],
            "text/html": [
              "\n",
              "  <div id=\"df-54f8ea3b-f571-4be9-9920-37d863c94090\">\n",
              "    <div class=\"colab-df-container\">\n",
              "      <div>\n",
              "<style scoped>\n",
              "    .dataframe tbody tr th:only-of-type {\n",
              "        vertical-align: middle;\n",
              "    }\n",
              "\n",
              "    .dataframe tbody tr th {\n",
              "        vertical-align: top;\n",
              "    }\n",
              "\n",
              "    .dataframe thead th {\n",
              "        text-align: right;\n",
              "    }\n",
              "</style>\n",
              "<table border=\"1\" class=\"dataframe\">\n",
              "  <thead>\n",
              "    <tr style=\"text-align: right;\">\n",
              "      <th></th>\n",
              "      <th>election period</th>\n",
              "      <th>document type</th>\n",
              "      <th>number document</th>\n",
              "      <th>date</th>\n",
              "      <th>title</th>\n",
              "      <th>text_clean</th>\n",
              "    </tr>\n",
              "  </thead>\n",
              "  <tbody>\n",
              "    <tr>\n",
              "      <th>0</th>\n",
              "      <td>10</td>\n",
              "      <td>PLENARPROTOKOLL</td>\n",
              "      <td>10/1</td>\n",
              "      <td>29.03.1983</td>\n",
              "      <td>Plenarprotokoll vom 29.03.1983</td>\n",
              "      <td>plenarprotokoll deutsch bundestag stenograph b...</td>\n",
              "    </tr>\n",
              "    <tr>\n",
              "      <th>1</th>\n",
              "      <td>10</td>\n",
              "      <td>PLENARPROTOKOLL</td>\n",
              "      <td>10/2</td>\n",
              "      <td>29.03.1983</td>\n",
              "      <td>Plenarprotokoll vom 29.03.1983</td>\n",
              "      <td>plenarprotokoll deutsch bundestag stenograph b...</td>\n",
              "    </tr>\n",
              "    <tr>\n",
              "      <th>2</th>\n",
              "      <td>10</td>\n",
              "      <td>PLENARPROTOKOLL</td>\n",
              "      <td>10/3</td>\n",
              "      <td>30.03.1983</td>\n",
              "      <td>Plenarprotokoll vom 30.03.1983</td>\n",
              "      <td>plenarprotokoll deutsch bundestag stenograph b...</td>\n",
              "    </tr>\n",
              "    <tr>\n",
              "      <th>3</th>\n",
              "      <td>10</td>\n",
              "      <td>PLENARPROTOKOLL</td>\n",
              "      <td>10/4</td>\n",
              "      <td>04.05.1983</td>\n",
              "      <td>Plenarprotokoll vom 04.05.1983</td>\n",
              "      <td>plenarprotokoll deutsch bundestag stenograph b...</td>\n",
              "    </tr>\n",
              "    <tr>\n",
              "      <th>4</th>\n",
              "      <td>10</td>\n",
              "      <td>PLENARPROTOKOLL</td>\n",
              "      <td>10/7</td>\n",
              "      <td>18.05.1983</td>\n",
              "      <td>Plenarprotokoll vom 18.05.1983</td>\n",
              "      <td>plenarprotokoll deutsch bundestag stenograph b...</td>\n",
              "    </tr>\n",
              "    <tr>\n",
              "      <th>...</th>\n",
              "      <td>...</td>\n",
              "      <td>...</td>\n",
              "      <td>...</td>\n",
              "      <td>...</td>\n",
              "      <td>...</td>\n",
              "      <td>...</td>\n",
              "    </tr>\n",
              "    <tr>\n",
              "      <th>1548</th>\n",
              "      <td>17</td>\n",
              "      <td>PLENARPROTOKOLL</td>\n",
              "      <td>17/92</td>\n",
              "      <td>23.02.2011</td>\n",
              "      <td>Plenarprotokoll vom 23.02.2011</td>\n",
              "      <td>plenarprotokoll deutsch bundestag stenograf be...</td>\n",
              "    </tr>\n",
              "    <tr>\n",
              "      <th>1549</th>\n",
              "      <td>17</td>\n",
              "      <td>PLENARPROTOKOLL</td>\n",
              "      <td>17/101</td>\n",
              "      <td>06.04.2011</td>\n",
              "      <td>Plenarprotokoll vom 06.04.2011</td>\n",
              "      <td>plenarprotokoll deutsch bundestag stenograf be...</td>\n",
              "    </tr>\n",
              "    <tr>\n",
              "      <th>1550</th>\n",
              "      <td>17</td>\n",
              "      <td>PLENARPROTOKOLL</td>\n",
              "      <td>17/94</td>\n",
              "      <td>25.02.2011</td>\n",
              "      <td>Plenarprotokoll vom 25.02.2011</td>\n",
              "      <td>plenarprotokoll deutsch bundestag stenograf be...</td>\n",
              "    </tr>\n",
              "    <tr>\n",
              "      <th>1551</th>\n",
              "      <td>17</td>\n",
              "      <td>PLENARPROTOKOLL</td>\n",
              "      <td>17/97</td>\n",
              "      <td>18.03.2011</td>\n",
              "      <td>Plenarprotokoll vom 18.03.2011</td>\n",
              "      <td>plenarprotokoll deutsch bundestag stenograf be...</td>\n",
              "    </tr>\n",
              "    <tr>\n",
              "      <th>1552</th>\n",
              "      <td>17</td>\n",
              "      <td>PLENARPROTOKOLL</td>\n",
              "      <td>17/99</td>\n",
              "      <td>24.03.2011</td>\n",
              "      <td>Plenarprotokoll vom 24.03.2011</td>\n",
              "      <td>plenarprotokoll deutsch bundestag stenograf be...</td>\n",
              "    </tr>\n",
              "  </tbody>\n",
              "</table>\n",
              "<p>1553 rows × 6 columns</p>\n",
              "</div>\n",
              "      <button class=\"colab-df-convert\" onclick=\"convertToInteractive('df-54f8ea3b-f571-4be9-9920-37d863c94090')\"\n",
              "              title=\"Convert this dataframe to an interactive table.\"\n",
              "              style=\"display:none;\">\n",
              "        \n",
              "  <svg xmlns=\"http://www.w3.org/2000/svg\" height=\"24px\"viewBox=\"0 0 24 24\"\n",
              "       width=\"24px\">\n",
              "    <path d=\"M0 0h24v24H0V0z\" fill=\"none\"/>\n",
              "    <path d=\"M18.56 5.44l.94 2.06.94-2.06 2.06-.94-2.06-.94-.94-2.06-.94 2.06-2.06.94zm-11 1L8.5 8.5l.94-2.06 2.06-.94-2.06-.94L8.5 2.5l-.94 2.06-2.06.94zm10 10l.94 2.06.94-2.06 2.06-.94-2.06-.94-.94-2.06-.94 2.06-2.06.94z\"/><path d=\"M17.41 7.96l-1.37-1.37c-.4-.4-.92-.59-1.43-.59-.52 0-1.04.2-1.43.59L10.3 9.45l-7.72 7.72c-.78.78-.78 2.05 0 2.83L4 21.41c.39.39.9.59 1.41.59.51 0 1.02-.2 1.41-.59l7.78-7.78 2.81-2.81c.8-.78.8-2.07 0-2.86zM5.41 20L4 18.59l7.72-7.72 1.47 1.35L5.41 20z\"/>\n",
              "  </svg>\n",
              "      </button>\n",
              "      \n",
              "  <style>\n",
              "    .colab-df-container {\n",
              "      display:flex;\n",
              "      flex-wrap:wrap;\n",
              "      gap: 12px;\n",
              "    }\n",
              "\n",
              "    .colab-df-convert {\n",
              "      background-color: #E8F0FE;\n",
              "      border: none;\n",
              "      border-radius: 50%;\n",
              "      cursor: pointer;\n",
              "      display: none;\n",
              "      fill: #1967D2;\n",
              "      height: 32px;\n",
              "      padding: 0 0 0 0;\n",
              "      width: 32px;\n",
              "    }\n",
              "\n",
              "    .colab-df-convert:hover {\n",
              "      background-color: #E2EBFA;\n",
              "      box-shadow: 0px 1px 2px rgba(60, 64, 67, 0.3), 0px 1px 3px 1px rgba(60, 64, 67, 0.15);\n",
              "      fill: #174EA6;\n",
              "    }\n",
              "\n",
              "    [theme=dark] .colab-df-convert {\n",
              "      background-color: #3B4455;\n",
              "      fill: #D2E3FC;\n",
              "    }\n",
              "\n",
              "    [theme=dark] .colab-df-convert:hover {\n",
              "      background-color: #434B5C;\n",
              "      box-shadow: 0px 1px 3px 1px rgba(0, 0, 0, 0.15);\n",
              "      filter: drop-shadow(0px 1px 2px rgba(0, 0, 0, 0.3));\n",
              "      fill: #FFFFFF;\n",
              "    }\n",
              "  </style>\n",
              "\n",
              "      <script>\n",
              "        const buttonEl =\n",
              "          document.querySelector('#df-54f8ea3b-f571-4be9-9920-37d863c94090 button.colab-df-convert');\n",
              "        buttonEl.style.display =\n",
              "          google.colab.kernel.accessAllowed ? 'block' : 'none';\n",
              "\n",
              "        async function convertToInteractive(key) {\n",
              "          const element = document.querySelector('#df-54f8ea3b-f571-4be9-9920-37d863c94090');\n",
              "          const dataTable =\n",
              "            await google.colab.kernel.invokeFunction('convertToInteractive',\n",
              "                                                     [key], {});\n",
              "          if (!dataTable) return;\n",
              "\n",
              "          const docLinkHtml = 'Like what you see? Visit the ' +\n",
              "            '<a target=\"_blank\" href=https://colab.research.google.com/notebooks/data_table.ipynb>data table notebook</a>'\n",
              "            + ' to learn more about interactive tables.';\n",
              "          element.innerHTML = '';\n",
              "          dataTable['output_type'] = 'display_data';\n",
              "          await google.colab.output.renderOutput(dataTable, element);\n",
              "          const docLink = document.createElement('div');\n",
              "          docLink.innerHTML = docLinkHtml;\n",
              "          element.appendChild(docLink);\n",
              "        }\n",
              "      </script>\n",
              "    </div>\n",
              "  </div>\n",
              "  "
            ]
          },
          "metadata": {},
          "execution_count": 108
        }
      ]
    },
    {
      "cell_type": "code",
      "source": [
        "period_1 = '01-01-1994'\n",
        "period_2 = '01-01-1998'\n",
        "period_3 = '01-01-2002'"
      ],
      "metadata": {
        "id": "SsxjexEDVOVM"
      },
      "execution_count": 109,
      "outputs": []
    },
    {
      "cell_type": "code",
      "source": [
        "df_final['date'] = pd.to_datetime(df_final['date'])"
      ],
      "metadata": {
        "id": "UI3gOXCAn6MY"
      },
      "execution_count": 110,
      "outputs": []
    },
    {
      "cell_type": "code",
      "source": [
        "df_final[(df_final['date'] > period_1) & (df_final['date'] <= period_2)].shape"
      ],
      "metadata": {
        "id": "OdJGRykinwj-",
        "colab": {
          "base_uri": "https://localhost:8080/"
        },
        "outputId": "d1f102ee-df8a-47d8-8a3f-0858d14213c8"
      },
      "execution_count": 111,
      "outputs": [
        {
          "output_type": "execute_result",
          "data": {
            "text/plain": [
              "(157, 6)"
            ]
          },
          "metadata": {},
          "execution_count": 111
        }
      ]
    },
    {
      "cell_type": "code",
      "source": [
        "def train_time(period1,period2=None,fin=False):\n",
        "    p = period1.split('-')[2]\n",
        "    if fin==False:\n",
        "      df_p = df_final[(df_final['date'] > period1) & (df_final['date'] <= period2)]\n",
        "    else:\n",
        "      df_p = df_final[df_final['date'] > period1]\n",
        "    sent = [row.split() for row in df_p['text_clean']]\n",
        "    phrases = Phrases(sent, min_count=30, progress_per=10000)\n",
        "    bigram = Phraser(phrases)\n",
        "    sentences = bigram[sent]\n",
        "    cores = multiprocessing.cpu_count()\n",
        "    w2v_model = Word2Vec(min_count=20,\n",
        "                     window=2,\n",
        "                     size=100,\n",
        "                     workers=cores-1)\n",
        "    w2v_model.build_vocab(sent, progress_per=10000)\n",
        "    w2v_model.train(sent, total_examples=w2v_model.corpus_count, epochs=5, report_delay=1)\n",
        "    w2v_model.save(\"/content/drive/My Drive/xml/models/word2vec_{}.model\".format(p))"
      ],
      "metadata": {
        "id": "c6_ryACETvRy"
      },
      "execution_count": 112,
      "outputs": []
    },
    {
      "cell_type": "code",
      "source": [
        "train_time(period_1,period_2)"
      ],
      "metadata": {
        "id": "awLHqOtwV10D"
      },
      "execution_count": 113,
      "outputs": []
    },
    {
      "cell_type": "code",
      "source": [
        "train_time(period_2,period_3)"
      ],
      "metadata": {
        "id": "-XtQ_n1TXLcB"
      },
      "execution_count": 114,
      "outputs": []
    },
    {
      "cell_type": "code",
      "source": [
        "train_time(period_3,fin=True)"
      ],
      "metadata": {
        "id": "W3t7wWJ0XLfD"
      },
      "execution_count": 115,
      "outputs": []
    },
    {
      "cell_type": "code",
      "source": [
        "def compute_frequenccy(word_list,mvk_in):\n",
        "  dict_r = {}\n",
        "  for wordd in word_list:\n",
        "    sum_freq = 0\n",
        "    for word in [wordd,wordd+'s']:\n",
        "      try:\n",
        "        freq_words = [x[0] for x in mvk_in.wv.most_similar(positive=word, topn=100)]\n",
        "        for f in freq_words:\n",
        "          freq = mvk_in.wv.vocab[f].count\n",
        "          sum_freq+=freq\n",
        "        dict_r[wordd] = sum_freq\n",
        "      except:\n",
        "        continue\n",
        "  return dict_r\n",
        "def get_scores_time(inputt,mvk_in):\n",
        "  scores = {}\n",
        "  for tar in tars:\n",
        "    sum = 0\n",
        "    for pair in inputt:\n",
        "        try:\n",
        "          resultaat_tel = mvk_in.wv.similarity(pair,tar)\n",
        "        except KeyError:\n",
        "          resultaat_tel = 0\n",
        "        sum+=resultaat_tel\n",
        "    scores[tar] = sum/len(inputt)\n",
        "  return scores\n",
        "def analysis_time(modelll):\n",
        "  mvkk = gensim.models.Word2Vec.load(modelll)\n",
        "  frequencies = compute_frequenccy(all,mvkk)\n",
        "  tars = list(frequencies.keys())\n",
        "  df_results = pd.DataFrame()\n",
        "  df_results['names'] = list(frequencies.keys())\n",
        "  df_results['frequencies'] = list(frequencies.values())\n",
        "  df_results['groups'] = [groupss[name] for name in df_results.names.values]\n",
        "  scores_lowstatus  = get_scores_time(low_status_all,mvkk)\n",
        "  scores_highthreat = get_scores_time(high_threat_all,mvkk)\n",
        "  scores_lowstatus  = { your_key: scores_lowstatus[your_key] for your_key in tars }\n",
        "  scores_highthreat  = { your_key: scores_highthreat[your_key] for your_key in tars }\n",
        "  df_results['scores_lowstatus']  = [x*10 for x in list(scores_lowstatus.values())]\n",
        "  df_results['scores_highthreat'] = [x*10 for x in list(scores_highthreat.values())]\n",
        "  df_results[\"names:group\"] = df_results[\"names\"] + '/'+ df_results[\"groups\"]\n",
        "  df_results.drop(['names','groups'],axis=1,inplace=True)\n",
        "  return df_results"
      ],
      "metadata": {
        "id": "ifi8BZUkgi31"
      },
      "execution_count": 116,
      "outputs": []
    },
    {
      "cell_type": "code",
      "source": [
        "import gensim\n",
        "period1_results = analysis_time(\"/content/drive/My Drive/xml/models/word2vec_1994.model\")\n",
        "period2_results = analysis_time(\"/content/drive/My Drive/xml/models/word2vec_1998.model\")\n",
        "period3_results = analysis_time(\"/content/drive/My Drive/xml/models/word2vec_2002.model\")"
      ],
      "metadata": {
        "id": "3_L8lBqQjdsZ"
      },
      "execution_count": 117,
      "outputs": []
    },
    {
      "cell_type": "markdown",
      "source": [],
      "metadata": {
        "id": "QWWJMetdxjxL"
      }
    },
    {
      "cell_type": "code",
      "source": [
        "period1_results"
      ],
      "metadata": {
        "id": "YbAL9_Avjyai",
        "colab": {
          "base_uri": "https://localhost:8080/",
          "height": 206
        },
        "outputId": "200340fd-5d89-4eec-9dc9-a8816e5d6081"
      },
      "execution_count": 118,
      "outputs": [
        {
          "output_type": "execute_result",
          "data": {
            "text/plain": [
              "   frequencies  scores_lowstatus  scores_highthreat          names:group\n",
              "0        31795         -0.015194           0.046380      deutsch/ingroup\n",
              "1        16696         -0.002462           0.090493    polnisch/outgroup\n",
              "2        28942         -0.001905           0.070687    russisch/outgroup\n",
              "3         6443          0.016017           0.115041  griechisch/outgroup\n",
              "4        12905          0.052130           0.065034     migrant/outgroup"
            ],
            "text/html": [
              "\n",
              "  <div id=\"df-5c2b9d6c-8b29-49c0-b33d-145a40a1d0b9\">\n",
              "    <div class=\"colab-df-container\">\n",
              "      <div>\n",
              "<style scoped>\n",
              "    .dataframe tbody tr th:only-of-type {\n",
              "        vertical-align: middle;\n",
              "    }\n",
              "\n",
              "    .dataframe tbody tr th {\n",
              "        vertical-align: top;\n",
              "    }\n",
              "\n",
              "    .dataframe thead th {\n",
              "        text-align: right;\n",
              "    }\n",
              "</style>\n",
              "<table border=\"1\" class=\"dataframe\">\n",
              "  <thead>\n",
              "    <tr style=\"text-align: right;\">\n",
              "      <th></th>\n",
              "      <th>frequencies</th>\n",
              "      <th>scores_lowstatus</th>\n",
              "      <th>scores_highthreat</th>\n",
              "      <th>names:group</th>\n",
              "    </tr>\n",
              "  </thead>\n",
              "  <tbody>\n",
              "    <tr>\n",
              "      <th>0</th>\n",
              "      <td>31795</td>\n",
              "      <td>-0.015194</td>\n",
              "      <td>0.046380</td>\n",
              "      <td>deutsch/ingroup</td>\n",
              "    </tr>\n",
              "    <tr>\n",
              "      <th>1</th>\n",
              "      <td>16696</td>\n",
              "      <td>-0.002462</td>\n",
              "      <td>0.090493</td>\n",
              "      <td>polnisch/outgroup</td>\n",
              "    </tr>\n",
              "    <tr>\n",
              "      <th>2</th>\n",
              "      <td>28942</td>\n",
              "      <td>-0.001905</td>\n",
              "      <td>0.070687</td>\n",
              "      <td>russisch/outgroup</td>\n",
              "    </tr>\n",
              "    <tr>\n",
              "      <th>3</th>\n",
              "      <td>6443</td>\n",
              "      <td>0.016017</td>\n",
              "      <td>0.115041</td>\n",
              "      <td>griechisch/outgroup</td>\n",
              "    </tr>\n",
              "    <tr>\n",
              "      <th>4</th>\n",
              "      <td>12905</td>\n",
              "      <td>0.052130</td>\n",
              "      <td>0.065034</td>\n",
              "      <td>migrant/outgroup</td>\n",
              "    </tr>\n",
              "  </tbody>\n",
              "</table>\n",
              "</div>\n",
              "      <button class=\"colab-df-convert\" onclick=\"convertToInteractive('df-5c2b9d6c-8b29-49c0-b33d-145a40a1d0b9')\"\n",
              "              title=\"Convert this dataframe to an interactive table.\"\n",
              "              style=\"display:none;\">\n",
              "        \n",
              "  <svg xmlns=\"http://www.w3.org/2000/svg\" height=\"24px\"viewBox=\"0 0 24 24\"\n",
              "       width=\"24px\">\n",
              "    <path d=\"M0 0h24v24H0V0z\" fill=\"none\"/>\n",
              "    <path d=\"M18.56 5.44l.94 2.06.94-2.06 2.06-.94-2.06-.94-.94-2.06-.94 2.06-2.06.94zm-11 1L8.5 8.5l.94-2.06 2.06-.94-2.06-.94L8.5 2.5l-.94 2.06-2.06.94zm10 10l.94 2.06.94-2.06 2.06-.94-2.06-.94-.94-2.06-.94 2.06-2.06.94z\"/><path d=\"M17.41 7.96l-1.37-1.37c-.4-.4-.92-.59-1.43-.59-.52 0-1.04.2-1.43.59L10.3 9.45l-7.72 7.72c-.78.78-.78 2.05 0 2.83L4 21.41c.39.39.9.59 1.41.59.51 0 1.02-.2 1.41-.59l7.78-7.78 2.81-2.81c.8-.78.8-2.07 0-2.86zM5.41 20L4 18.59l7.72-7.72 1.47 1.35L5.41 20z\"/>\n",
              "  </svg>\n",
              "      </button>\n",
              "      \n",
              "  <style>\n",
              "    .colab-df-container {\n",
              "      display:flex;\n",
              "      flex-wrap:wrap;\n",
              "      gap: 12px;\n",
              "    }\n",
              "\n",
              "    .colab-df-convert {\n",
              "      background-color: #E8F0FE;\n",
              "      border: none;\n",
              "      border-radius: 50%;\n",
              "      cursor: pointer;\n",
              "      display: none;\n",
              "      fill: #1967D2;\n",
              "      height: 32px;\n",
              "      padding: 0 0 0 0;\n",
              "      width: 32px;\n",
              "    }\n",
              "\n",
              "    .colab-df-convert:hover {\n",
              "      background-color: #E2EBFA;\n",
              "      box-shadow: 0px 1px 2px rgba(60, 64, 67, 0.3), 0px 1px 3px 1px rgba(60, 64, 67, 0.15);\n",
              "      fill: #174EA6;\n",
              "    }\n",
              "\n",
              "    [theme=dark] .colab-df-convert {\n",
              "      background-color: #3B4455;\n",
              "      fill: #D2E3FC;\n",
              "    }\n",
              "\n",
              "    [theme=dark] .colab-df-convert:hover {\n",
              "      background-color: #434B5C;\n",
              "      box-shadow: 0px 1px 3px 1px rgba(0, 0, 0, 0.15);\n",
              "      filter: drop-shadow(0px 1px 2px rgba(0, 0, 0, 0.3));\n",
              "      fill: #FFFFFF;\n",
              "    }\n",
              "  </style>\n",
              "\n",
              "      <script>\n",
              "        const buttonEl =\n",
              "          document.querySelector('#df-5c2b9d6c-8b29-49c0-b33d-145a40a1d0b9 button.colab-df-convert');\n",
              "        buttonEl.style.display =\n",
              "          google.colab.kernel.accessAllowed ? 'block' : 'none';\n",
              "\n",
              "        async function convertToInteractive(key) {\n",
              "          const element = document.querySelector('#df-5c2b9d6c-8b29-49c0-b33d-145a40a1d0b9');\n",
              "          const dataTable =\n",
              "            await google.colab.kernel.invokeFunction('convertToInteractive',\n",
              "                                                     [key], {});\n",
              "          if (!dataTable) return;\n",
              "\n",
              "          const docLinkHtml = 'Like what you see? Visit the ' +\n",
              "            '<a target=\"_blank\" href=https://colab.research.google.com/notebooks/data_table.ipynb>data table notebook</a>'\n",
              "            + ' to learn more about interactive tables.';\n",
              "          element.innerHTML = '';\n",
              "          dataTable['output_type'] = 'display_data';\n",
              "          await google.colab.output.renderOutput(dataTable, element);\n",
              "          const docLink = document.createElement('div');\n",
              "          docLink.innerHTML = docLinkHtml;\n",
              "          element.appendChild(docLink);\n",
              "        }\n",
              "      </script>\n",
              "    </div>\n",
              "  </div>\n",
              "  "
            ]
          },
          "metadata": {},
          "execution_count": 118
        }
      ]
    },
    {
      "cell_type": "code",
      "source": [
        "import matplotlib.pyplot as plt\n",
        "import seaborn as sns\n",
        "plt.figure(figsize=(15,5))\n",
        "sns.scatterplot(data=period1_results,x='scores_lowstatus',y='scores_highthreat',hue=\"names:group\",size=\"frequencies\")"
      ],
      "metadata": {
        "id": "xCxqjXGJxn51",
        "colab": {
          "base_uri": "https://localhost:8080/",
          "height": 353
        },
        "outputId": "65f5d1ee-8e9c-4fcc-a570-8a3b6dfcbc45"
      },
      "execution_count": 119,
      "outputs": [
        {
          "output_type": "execute_result",
          "data": {
            "text/plain": [
              "<matplotlib.axes._subplots.AxesSubplot at 0x7f81902121d0>"
            ]
          },
          "metadata": {},
          "execution_count": 119
        },
        {
          "output_type": "display_data",
          "data": {
            "text/plain": [
              "<Figure size 1080x360 with 1 Axes>"
            ],
            "image/png": "[encoded data removed]"
          },
          "metadata": {
            "needs_background": "light"
          }
        }
      ]
    },
    {
      "cell_type": "code",
      "source": [
        "period2_results"
      ],
      "metadata": {
        "id": "gajBQlFVxUZC",
        "colab": {
          "base_uri": "https://localhost:8080/",
          "height": 206
        },
        "outputId": "0e45afd3-308a-4281-d88b-dbc44d64aeca"
      },
      "execution_count": 120,
      "outputs": [
        {
          "output_type": "execute_result",
          "data": {
            "text/plain": [
              "   frequencies  scores_lowstatus  scores_highthreat          names:group\n",
              "0        36465         -0.030383           0.033649      deutsch/ingroup\n",
              "1         7093          0.043221           0.120962    polnisch/outgroup\n",
              "2        14285          0.023702           0.084765    russisch/outgroup\n",
              "3         6936          0.051222           0.132389  griechisch/outgroup\n",
              "4         5377          0.072655           0.135040     migrant/outgroup"
            ],
            "text/html": [
              "\n",
              "  <div id=\"df-be63d7ec-3a8d-4859-b17c-9cac66ac1f43\">\n",
              "    <div class=\"colab-df-container\">\n",
              "      <div>\n",
              "<style scoped>\n",
              "    .dataframe tbody tr th:only-of-type {\n",
              "        vertical-align: middle;\n",
              "    }\n",
              "\n",
              "    .dataframe tbody tr th {\n",
              "        vertical-align: top;\n",
              "    }\n",
              "\n",
              "    .dataframe thead th {\n",
              "        text-align: right;\n",
              "    }\n",
              "</style>\n",
              "<table border=\"1\" class=\"dataframe\">\n",
              "  <thead>\n",
              "    <tr style=\"text-align: right;\">\n",
              "      <th></th>\n",
              "      <th>frequencies</th>\n",
              "      <th>scores_lowstatus</th>\n",
              "      <th>scores_highthreat</th>\n",
              "      <th>names:group</th>\n",
              "    </tr>\n",
              "  </thead>\n",
              "  <tbody>\n",
              "    <tr>\n",
              "      <th>0</th>\n",
              "      <td>36465</td>\n",
              "      <td>-0.030383</td>\n",
              "      <td>0.033649</td>\n",
              "      <td>deutsch/ingroup</td>\n",
              "    </tr>\n",
              "    <tr>\n",
              "      <th>1</th>\n",
              "      <td>7093</td>\n",
              "      <td>0.043221</td>\n",
              "      <td>0.120962</td>\n",
              "      <td>polnisch/outgroup</td>\n",
              "    </tr>\n",
              "    <tr>\n",
              "      <th>2</th>\n",
              "      <td>14285</td>\n",
              "      <td>0.023702</td>\n",
              "      <td>0.084765</td>\n",
              "      <td>russisch/outgroup</td>\n",
              "    </tr>\n",
              "    <tr>\n",
              "      <th>3</th>\n",
              "      <td>6936</td>\n",
              "      <td>0.051222</td>\n",
              "      <td>0.132389</td>\n",
              "      <td>griechisch/outgroup</td>\n",
              "    </tr>\n",
              "    <tr>\n",
              "      <th>4</th>\n",
              "      <td>5377</td>\n",
              "      <td>0.072655</td>\n",
              "      <td>0.135040</td>\n",
              "      <td>migrant/outgroup</td>\n",
              "    </tr>\n",
              "  </tbody>\n",
              "</table>\n",
              "</div>\n",
              "      <button class=\"colab-df-convert\" onclick=\"convertToInteractive('df-be63d7ec-3a8d-4859-b17c-9cac66ac1f43')\"\n",
              "              title=\"Convert this dataframe to an interactive table.\"\n",
              "              style=\"display:none;\">\n",
              "        \n",
              "  <svg xmlns=\"http://www.w3.org/2000/svg\" height=\"24px\"viewBox=\"0 0 24 24\"\n",
              "       width=\"24px\">\n",
              "    <path d=\"M0 0h24v24H0V0z\" fill=\"none\"/>\n",
              "    <path d=\"M18.56 5.44l.94 2.06.94-2.06 2.06-.94-2.06-.94-.94-2.06-.94 2.06-2.06.94zm-11 1L8.5 8.5l.94-2.06 2.06-.94-2.06-.94L8.5 2.5l-.94 2.06-2.06.94zm10 10l.94 2.06.94-2.06 2.06-.94-2.06-.94-.94-2.06-.94 2.06-2.06.94z\"/><path d=\"M17.41 7.96l-1.37-1.37c-.4-.4-.92-.59-1.43-.59-.52 0-1.04.2-1.43.59L10.3 9.45l-7.72 7.72c-.78.78-.78 2.05 0 2.83L4 21.41c.39.39.9.59 1.41.59.51 0 1.02-.2 1.41-.59l7.78-7.78 2.81-2.81c.8-.78.8-2.07 0-2.86zM5.41 20L4 18.59l7.72-7.72 1.47 1.35L5.41 20z\"/>\n",
              "  </svg>\n",
              "      </button>\n",
              "      \n",
              "  <style>\n",
              "    .colab-df-container {\n",
              "      display:flex;\n",
              "      flex-wrap:wrap;\n",
              "      gap: 12px;\n",
              "    }\n",
              "\n",
              "    .colab-df-convert {\n",
              "      background-color: #E8F0FE;\n",
              "      border: none;\n",
              "      border-radius: 50%;\n",
              "      cursor: pointer;\n",
              "      display: none;\n",
              "      fill: #1967D2;\n",
              "      height: 32px;\n",
              "      padding: 0 0 0 0;\n",
              "      width: 32px;\n",
              "    }\n",
              "\n",
              "    .colab-df-convert:hover {\n",
              "      background-color: #E2EBFA;\n",
              "      box-shadow: 0px 1px 2px rgba(60, 64, 67, 0.3), 0px 1px 3px 1px rgba(60, 64, 67, 0.15);\n",
              "      fill: #174EA6;\n",
              "    }\n",
              "\n",
              "    [theme=dark] .colab-df-convert {\n",
              "      background-color: #3B4455;\n",
              "      fill: #D2E3FC;\n",
              "    }\n",
              "\n",
              "    [theme=dark] .colab-df-convert:hover {\n",
              "      background-color: #434B5C;\n",
              "      box-shadow: 0px 1px 3px 1px rgba(0, 0, 0, 0.15);\n",
              "      filter: drop-shadow(0px 1px 2px rgba(0, 0, 0, 0.3));\n",
              "      fill: #FFFFFF;\n",
              "    }\n",
              "  </style>\n",
              "\n",
              "      <script>\n",
              "        const buttonEl =\n",
              "          document.querySelector('#df-be63d7ec-3a8d-4859-b17c-9cac66ac1f43 button.colab-df-convert');\n",
              "        buttonEl.style.display =\n",
              "          google.colab.kernel.accessAllowed ? 'block' : 'none';\n",
              "\n",
              "        async function convertToInteractive(key) {\n",
              "          const element = document.querySelector('#df-be63d7ec-3a8d-4859-b17c-9cac66ac1f43');\n",
              "          const dataTable =\n",
              "            await google.colab.kernel.invokeFunction('convertToInteractive',\n",
              "                                                     [key], {});\n",
              "          if (!dataTable) return;\n",
              "\n",
              "          const docLinkHtml = 'Like what you see? Visit the ' +\n",
              "            '<a target=\"_blank\" href=https://colab.research.google.com/notebooks/data_table.ipynb>data table notebook</a>'\n",
              "            + ' to learn more about interactive tables.';\n",
              "          element.innerHTML = '';\n",
              "          dataTable['output_type'] = 'display_data';\n",
              "          await google.colab.output.renderOutput(dataTable, element);\n",
              "          const docLink = document.createElement('div');\n",
              "          docLink.innerHTML = docLinkHtml;\n",
              "          element.appendChild(docLink);\n",
              "        }\n",
              "      </script>\n",
              "    </div>\n",
              "  </div>\n",
              "  "
            ]
          },
          "metadata": {},
          "execution_count": 120
        }
      ]
    },
    {
      "cell_type": "code",
      "source": [
        "plt.figure(figsize=(15,5))\n",
        "sns.scatterplot(data=period2_results,x='scores_lowstatus',y='scores_highthreat',hue=\"names:group\",size=\"frequencies\")"
      ],
      "metadata": {
        "id": "o9Agdbfxx225",
        "colab": {
          "base_uri": "https://localhost:8080/",
          "height": 356
        },
        "outputId": "3e1a140d-5487-48fe-eabc-5d24ae0a93e4"
      },
      "execution_count": 121,
      "outputs": [
        {
          "output_type": "execute_result",
          "data": {
            "text/plain": [
              "<matplotlib.axes._subplots.AxesSubplot at 0x7f81b7e17dd0>"
            ]
          },
          "metadata": {},
          "execution_count": 121
        },
        {
          "output_type": "display_data",
          "data": {
            "text/plain": [
              "<Figure size 1080x360 with 1 Axes>"
            ],
            "image/png": "[encoded data removed]"
          },
          "metadata": {
            "needs_background": "light"
          }
        }
      ]
    },
    {
      "cell_type": "code",
      "source": [
        "period3_results"
      ],
      "metadata": {
        "id": "6GOAShL5xUb8",
        "colab": {
          "base_uri": "https://localhost:8080/",
          "height": 269
        },
        "outputId": "c5000583-6783-4c9a-ac04-a75c9dba325e"
      },
      "execution_count": 122,
      "outputs": [
        {
          "output_type": "execute_result",
          "data": {
            "text/plain": [
              "   frequencies  scores_lowstatus  scores_highthreat          names:group\n",
              "0       268595          0.024043           0.012452      deutsch/ingroup\n",
              "1        48509          0.046561           0.040179    polnisch/outgroup\n",
              "2        64352          0.038357           0.066498    russisch/outgroup\n",
              "3        60756          0.056899           0.047263  griechisch/outgroup\n",
              "4        64790          0.084018           0.086614     syrisch/outgroup\n",
              "5       236306          0.105968           0.085784      somali/outgroup\n",
              "6        75697          0.135974           0.072779     migrant/outgroup"
            ],
            "text/html": [
              "\n",
              "  <div id=\"df-0add72db-7091-490c-b5db-39fbef5eec26\">\n",
              "    <div class=\"colab-df-container\">\n",
              "      <div>\n",
              "<style scoped>\n",
              "    .dataframe tbody tr th:only-of-type {\n",
              "        vertical-align: middle;\n",
              "    }\n",
              "\n",
              "    .dataframe tbody tr th {\n",
              "        vertical-align: top;\n",
              "    }\n",
              "\n",
              "    .dataframe thead th {\n",
              "        text-align: right;\n",
              "    }\n",
              "</style>\n",
              "<table border=\"1\" class=\"dataframe\">\n",
              "  <thead>\n",
              "    <tr style=\"text-align: right;\">\n",
              "      <th></th>\n",
              "      <th>frequencies</th>\n",
              "      <th>scores_lowstatus</th>\n",
              "      <th>scores_highthreat</th>\n",
              "      <th>names:group</th>\n",
              "    </tr>\n",
              "  </thead>\n",
              "  <tbody>\n",
              "    <tr>\n",
              "      <th>0</th>\n",
              "      <td>268595</td>\n",
              "      <td>0.024043</td>\n",
              "      <td>0.012452</td>\n",
              "      <td>deutsch/ingroup</td>\n",
              "    </tr>\n",
              "    <tr>\n",
              "      <th>1</th>\n",
              "      <td>48509</td>\n",
              "      <td>0.046561</td>\n",
              "      <td>0.040179</td>\n",
              "      <td>polnisch/outgroup</td>\n",
              "    </tr>\n",
              "    <tr>\n",
              "      <th>2</th>\n",
              "      <td>64352</td>\n",
              "      <td>0.038357</td>\n",
              "      <td>0.066498</td>\n",
              "      <td>russisch/outgroup</td>\n",
              "    </tr>\n",
              "    <tr>\n",
              "      <th>3</th>\n",
              "      <td>60756</td>\n",
              "      <td>0.056899</td>\n",
              "      <td>0.047263</td>\n",
              "      <td>griechisch/outgroup</td>\n",
              "    </tr>\n",
              "    <tr>\n",
              "      <th>4</th>\n",
              "      <td>64790</td>\n",
              "      <td>0.084018</td>\n",
              "      <td>0.086614</td>\n",
              "      <td>syrisch/outgroup</td>\n",
              "    </tr>\n",
              "    <tr>\n",
              "      <th>5</th>\n",
              "      <td>236306</td>\n",
              "      <td>0.105968</td>\n",
              "      <td>0.085784</td>\n",
              "      <td>somali/outgroup</td>\n",
              "    </tr>\n",
              "    <tr>\n",
              "      <th>6</th>\n",
              "      <td>75697</td>\n",
              "      <td>0.135974</td>\n",
              "      <td>0.072779</td>\n",
              "      <td>migrant/outgroup</td>\n",
              "    </tr>\n",
              "  </tbody>\n",
              "</table>\n",
              "</div>\n",
              "      <button class=\"colab-df-convert\" onclick=\"convertToInteractive('df-0add72db-7091-490c-b5db-39fbef5eec26')\"\n",
              "              title=\"Convert this dataframe to an interactive table.\"\n",
              "              style=\"display:none;\">\n",
              "        \n",
              "  <svg xmlns=\"http://www.w3.org/2000/svg\" height=\"24px\"viewBox=\"0 0 24 24\"\n",
              "       width=\"24px\">\n",
              "    <path d=\"M0 0h24v24H0V0z\" fill=\"none\"/>\n",
              "    <path d=\"M18.56 5.44l.94 2.06.94-2.06 2.06-.94-2.06-.94-.94-2.06-.94 2.06-2.06.94zm-11 1L8.5 8.5l.94-2.06 2.06-.94-2.06-.94L8.5 2.5l-.94 2.06-2.06.94zm10 10l.94 2.06.94-2.06 2.06-.94-2.06-.94-.94-2.06-.94 2.06-2.06.94z\"/><path d=\"M17.41 7.96l-1.37-1.37c-.4-.4-.92-.59-1.43-.59-.52 0-1.04.2-1.43.59L10.3 9.45l-7.72 7.72c-.78.78-.78 2.05 0 2.83L4 21.41c.39.39.9.59 1.41.59.51 0 1.02-.2 1.41-.59l7.78-7.78 2.81-2.81c.8-.78.8-2.07 0-2.86zM5.41 20L4 18.59l7.72-7.72 1.47 1.35L5.41 20z\"/>\n",
              "  </svg>\n",
              "      </button>\n",
              "      \n",
              "  <style>\n",
              "    .colab-df-container {\n",
              "      display:flex;\n",
              "      flex-wrap:wrap;\n",
              "      gap: 12px;\n",
              "    }\n",
              "\n",
              "    .colab-df-convert {\n",
              "      background-color: #E8F0FE;\n",
              "      border: none;\n",
              "      border-radius: 50%;\n",
              "      cursor: pointer;\n",
              "      display: none;\n",
              "      fill: #1967D2;\n",
              "      height: 32px;\n",
              "      padding: 0 0 0 0;\n",
              "      width: 32px;\n",
              "    }\n",
              "\n",
              "    .colab-df-convert:hover {\n",
              "      background-color: #E2EBFA;\n",
              "      box-shadow: 0px 1px 2px rgba(60, 64, 67, 0.3), 0px 1px 3px 1px rgba(60, 64, 67, 0.15);\n",
              "      fill: #174EA6;\n",
              "    }\n",
              "\n",
              "    [theme=dark] .colab-df-convert {\n",
              "      background-color: #3B4455;\n",
              "      fill: #D2E3FC;\n",
              "    }\n",
              "\n",
              "    [theme=dark] .colab-df-convert:hover {\n",
              "      background-color: #434B5C;\n",
              "      box-shadow: 0px 1px 3px 1px rgba(0, 0, 0, 0.15);\n",
              "      filter: drop-shadow(0px 1px 2px rgba(0, 0, 0, 0.3));\n",
              "      fill: #FFFFFF;\n",
              "    }\n",
              "  </style>\n",
              "\n",
              "      <script>\n",
              "        const buttonEl =\n",
              "          document.querySelector('#df-0add72db-7091-490c-b5db-39fbef5eec26 button.colab-df-convert');\n",
              "        buttonEl.style.display =\n",
              "          google.colab.kernel.accessAllowed ? 'block' : 'none';\n",
              "\n",
              "        async function convertToInteractive(key) {\n",
              "          const element = document.querySelector('#df-0add72db-7091-490c-b5db-39fbef5eec26');\n",
              "          const dataTable =\n",
              "            await google.colab.kernel.invokeFunction('convertToInteractive',\n",
              "                                                     [key], {});\n",
              "          if (!dataTable) return;\n",
              "\n",
              "          const docLinkHtml = 'Like what you see? Visit the ' +\n",
              "            '<a target=\"_blank\" href=https://colab.research.google.com/notebooks/data_table.ipynb>data table notebook</a>'\n",
              "            + ' to learn more about interactive tables.';\n",
              "          element.innerHTML = '';\n",
              "          dataTable['output_type'] = 'display_data';\n",
              "          await google.colab.output.renderOutput(dataTable, element);\n",
              "          const docLink = document.createElement('div');\n",
              "          docLink.innerHTML = docLinkHtml;\n",
              "          element.appendChild(docLink);\n",
              "        }\n",
              "      </script>\n",
              "    </div>\n",
              "  </div>\n",
              "  "
            ]
          },
          "metadata": {},
          "execution_count": 122
        }
      ]
    },
    {
      "cell_type": "code",
      "source": [
        "plt.figure(figsize=(15,5))\n",
        "sns.scatterplot(data=period3_results,x='scores_lowstatus',y='scores_highthreat',hue=\"names:group\",size=\"frequencies\")"
      ],
      "metadata": {
        "id": "vd07Ugakx5Xl",
        "colab": {
          "base_uri": "https://localhost:8080/",
          "height": 356
        },
        "outputId": "641c8913-7aaa-4832-d0c0-2a8888d50267"
      },
      "execution_count": 123,
      "outputs": [
        {
          "output_type": "execute_result",
          "data": {
            "text/plain": [
              "<matplotlib.axes._subplots.AxesSubplot at 0x7f80ae418350>"
            ]
          },
          "metadata": {},
          "execution_count": 123
        },
        {
          "output_type": "display_data",
          "data": {
            "text/plain": [
              "<Figure size 1080x360 with 1 Axes>"
            ],
            "image/png": "[encoded data removed]"
          },
          "metadata": {
            "needs_background": "light"
          }
        }
      ]
    }
  ],
  "metadata": {
    "colab": {
      "collapsed_sections": [],
      "name": "Copy of german",
      "provenance": [],
      "machine_shape": "hm",
      "include_colab_link": true
    },
    "kernelspec": {
      "display_name": "Python 3",
      "name": "python3"
    },
    "language_info": {
      "name": "python"
    },
    "gpuClass": "standard"
  },
  "nbformat": 4,
  "nbformat_minor": 0
}