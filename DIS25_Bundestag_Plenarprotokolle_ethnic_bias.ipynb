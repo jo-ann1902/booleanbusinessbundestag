{
  "cells": [
    {
      "cell_type": "markdown",
      "metadata": {
        "id": "view-in-github",
        "colab_type": "text"
      },
      "source": [
        "<a href=\"https://colab.research.google.com/github/jo-ann1902/booleanbusinessbundestag/blob/main/DIS25_Bundestag_Plenarprotokolle_ethnic_bias.ipynb\" target=\"_parent\"><img src=\"https://colab.research.google.com/assets/colab-badge.svg\" alt=\"Open In Colab\"/></a>"
      ]
    },
    {
      "cell_type": "code",
      "execution_count": 1,
      "metadata": {
        "colab": {
          "base_uri": "https://localhost:8080/"
        },
        "id": "9e9q1mEMgQ6D",
        "outputId": "def45e58-a384-4a81-9724-e6f9d6037a64"
      },
      "outputs": [
        {
          "output_type": "stream",
          "name": "stdout",
          "text": [
            "Drive already mounted at /content/drive; to attempt to forcibly remount, call drive.mount(\"/content/drive\", force_remount=True).\n"
          ]
        }
      ],
      "source": [
        "from google.colab import drive\n",
        "drive.mount('/content/drive')"
      ]
    },
    {
      "cell_type": "markdown",
      "metadata": {
        "id": "pXPFy681hxn9"
      },
      "source": [
        "# Data Loading into Pandas dataframes\n",
        "The data is located on a google drive folder."
      ]
    },
    {
      "cell_type": "code",
      "execution_count": 2,
      "metadata": {
        "id": "ZtRcG3hKlQrW"
      },
      "outputs": [],
      "source": [
        "import pandas as pd"
      ]
    },
    {
      "cell_type": "code",
      "execution_count": 3,
      "metadata": {
        "id": "kA_3YoOohqia"
      },
      "outputs": [],
      "source": [
        "\"\"\"\n",
        "Data Loading XML into Pandas \n",
        "\"\"\"\n",
        "import pandas as pd\n",
        "import xml.etree.ElementTree as et\n",
        "def parse_XML(xml_file): \n",
        "    \"\"\"Parse the input XML file and store the result in a pandas \n",
        "    DataFrame with the given columns. \n",
        "    \n",
        "    The first element of df_cols is supposed to be the identifier \n",
        "    variable, which is an attribute of each node element in the \n",
        "    XML data; other features will be parsed from the text content \n",
        "    of each sub-element. \n",
        "    \"\"\"\n",
        "    xtree = et.parse(xml_file)\n",
        "    xroot = xtree.getroot()\n",
        "    election_period = xroot.find(\"WAHLPERIODE\").text\n",
        "    doc_type        = xroot.find(\"DOKUMENTART\").text\n",
        "    n_doc           = xroot.find(\"NR\").text\n",
        "    date            = xroot.find(\"DATUM\").text\n",
        "    title           = xroot.find(\"TITEL\").text\n",
        "    text            = xroot.find(\"TEXT\").text\n",
        "    rows = [[election_period,doc_type,n_doc,date,title,text]]\n",
        "    out_df = pd.DataFrame(rows, columns=[\"election period\",\"document type\",\"number document\",\"date\",\"title\",\"text\"])   \n",
        "    return out_df"
      ]
    },
    {
      "cell_type": "code",
      "execution_count": 4,
      "metadata": {
        "id": "WE39df4LyPgT"
      },
      "outputs": [],
      "source": [
        "'''\n",
        "    For the given path, get the List of all files in the directory tree \n",
        "'''\n",
        "import os\n",
        "def getListOfFiles(dirName):\n",
        "    # create a list of file and sub directories \n",
        "    # names in the given directory \n",
        "    listOfFile = os.listdir(dirName)\n",
        "    allFiles = list()\n",
        "    # Iterate over all the entries\n",
        "    for entry in listOfFile:\n",
        "        # Create full path\n",
        "        fullPath = os.path.join(dirName, entry)\n",
        "        # If entry is a directory then get the list of files in this directory \n",
        "        if os.path.isdir(fullPath):\n",
        "            allFiles = allFiles + getListOfFiles(fullPath)\n",
        "        else:\n",
        "            allFiles.append(fullPath)\n",
        "                \n",
        "    return allFiles"
      ]
    },
    {
      "cell_type": "code",
      "execution_count": 5,
      "metadata": {
        "colab": {
          "base_uri": "https://localhost:8080/"
        },
        "id": "Gm97X-gnzH80",
        "outputId": "ca2a790b-c8cf-4b1f-f67a-199c4590ecb8"
      },
      "outputs": [
        {
          "output_type": "stream",
          "name": "stdout",
          "text": [
            "we have 1563 xml file in total\n"
          ]
        }
      ],
      "source": [
        "all_files_paths = getListOfFiles(\"/content/drive/My Drive/xml/xmls\")\n",
        "print(\"we have {} xml file in total\".format(len(all_files_paths)))"
      ]
    },
    {
      "cell_type": "code",
      "execution_count": 6,
      "metadata": {
        "id": "1EhG94qIzi6O"
      },
      "outputs": [],
      "source": [
        "\"\"\"\n",
        "Convert all xml files into pandas dataframe\n",
        "\"\"\"\n",
        "from tqdm import tqdm\n",
        "def convert_files(list_xml):\n",
        "  dfs = []\n",
        "  for file in tqdm(list_xml):\n",
        "    try:\n",
        "      df = parse_XML(file)\n",
        "      dfs.append(df)\n",
        "    except:\n",
        "      continue\n",
        "  df_total = pd.concat(dfs)\n",
        "  return df_total"
      ]
    },
    {
      "cell_type": "code",
      "execution_count": 7,
      "metadata": {
        "id": "w8YlEdkt0o0N",
        "colab": {
          "base_uri": "https://localhost:8080/"
        },
        "outputId": "b05a7196-613a-4559-96c3-d739b1a58607"
      },
      "outputs": [
        {
          "output_type": "stream",
          "name": "stderr",
          "text": [
            "100%|██████████| 1563/1563 [00:20<00:00, 75.68it/s]\n"
          ]
        }
      ],
      "source": [
        "df_final = convert_files(all_files_paths)"
      ]
    },
    {
      "cell_type": "code",
      "execution_count": 8,
      "metadata": {
        "id": "X6K7bJZz7iW_",
        "colab": {
          "base_uri": "https://localhost:8080/"
        },
        "outputId": "979c2e0c-f602-4264-fe5b-a5f531b9001e"
      },
      "outputs": [
        {
          "output_type": "execute_result",
          "data": {
            "text/plain": [
              "(1554, 6)"
            ]
          },
          "metadata": {},
          "execution_count": 8
        }
      ],
      "source": [
        "df_final.shape"
      ]
    },
    {
      "cell_type": "code",
      "execution_count": 9,
      "metadata": {
        "id": "7BIwZHmN7pjY",
        "colab": {
          "base_uri": "https://localhost:8080/",
          "height": 206
        },
        "outputId": "b9dde86b-7a98-48ae-fcc8-9d3798d997f8"
      },
      "outputs": [
        {
          "output_type": "execute_result",
          "data": {
            "text/plain": [
              "  election period    document type number document        date  \\\n",
              "0              13  PLENARPROTOKOLL          13/110  13.06.1996   \n",
              "0              13  PLENARPROTOKOLL          13/238  28.05.1998   \n",
              "0              13  PLENARPROTOKOLL          13/241  18.06.1998   \n",
              "0              13  PLENARPROTOKOLL          13/244  24.06.1998   \n",
              "0              13  PLENARPROTOKOLL           13/47  29.06.1995   \n",
              "\n",
              "                            title  \\\n",
              "0  Plenarprotokoll vom 13.06.1996   \n",
              "0  Plenarprotokoll vom 28.05.1998   \n",
              "0  Plenarprotokoll vom 18.06.1998   \n",
              "0  Plenarprotokoll vom 24.06.1998   \n",
              "0  Plenarprotokoll vom 29.06.1995   \n",
              "\n",
              "                                                text  \n",
              "0  Plenarprotokoll 13/110\\n(Zu diesem Protokoll f...  \n",
              "0  Plenarprotokoll 13/238\\nDeutscher Bundestag\\nS...  \n",
              "0  Plenarprotokoll 13/241\\nDeutscher Bundestag\\nS...  \n",
              "0  Plenarprotokoll 13/244\\nDeutscher Bundestag\\nS...  \n",
              "0  Plenarprotokoll 13/47\\nDeutscher Bundestag\\nSt...  "
            ],
            "text/html": [
              "\n",
              "  <div id=\"df-96342a9a-1fd3-4972-b81a-145cba682738\">\n",
              "    <div class=\"colab-df-container\">\n",
              "      <div>\n",
              "<style scoped>\n",
              "    .dataframe tbody tr th:only-of-type {\n",
              "        vertical-align: middle;\n",
              "    }\n",
              "\n",
              "    .dataframe tbody tr th {\n",
              "        vertical-align: top;\n",
              "    }\n",
              "\n",
              "    .dataframe thead th {\n",
              "        text-align: right;\n",
              "    }\n",
              "</style>\n",
              "<table border=\"1\" class=\"dataframe\">\n",
              "  <thead>\n",
              "    <tr style=\"text-align: right;\">\n",
              "      <th></th>\n",
              "      <th>election period</th>\n",
              "      <th>document type</th>\n",
              "      <th>number document</th>\n",
              "      <th>date</th>\n",
              "      <th>title</th>\n",
              "      <th>text</th>\n",
              "    </tr>\n",
              "  </thead>\n",
              "  <tbody>\n",
              "    <tr>\n",
              "      <th>0</th>\n",
              "      <td>13</td>\n",
              "      <td>PLENARPROTOKOLL</td>\n",
              "      <td>13/110</td>\n",
              "      <td>13.06.1996</td>\n",
              "      <td>Plenarprotokoll vom 13.06.1996</td>\n",
              "      <td>Plenarprotokoll 13/110\\n(Zu diesem Protokoll f...</td>\n",
              "    </tr>\n",
              "    <tr>\n",
              "      <th>0</th>\n",
              "      <td>13</td>\n",
              "      <td>PLENARPROTOKOLL</td>\n",
              "      <td>13/238</td>\n",
              "      <td>28.05.1998</td>\n",
              "      <td>Plenarprotokoll vom 28.05.1998</td>\n",
              "      <td>Plenarprotokoll 13/238\\nDeutscher Bundestag\\nS...</td>\n",
              "    </tr>\n",
              "    <tr>\n",
              "      <th>0</th>\n",
              "      <td>13</td>\n",
              "      <td>PLENARPROTOKOLL</td>\n",
              "      <td>13/241</td>\n",
              "      <td>18.06.1998</td>\n",
              "      <td>Plenarprotokoll vom 18.06.1998</td>\n",
              "      <td>Plenarprotokoll 13/241\\nDeutscher Bundestag\\nS...</td>\n",
              "    </tr>\n",
              "    <tr>\n",
              "      <th>0</th>\n",
              "      <td>13</td>\n",
              "      <td>PLENARPROTOKOLL</td>\n",
              "      <td>13/244</td>\n",
              "      <td>24.06.1998</td>\n",
              "      <td>Plenarprotokoll vom 24.06.1998</td>\n",
              "      <td>Plenarprotokoll 13/244\\nDeutscher Bundestag\\nS...</td>\n",
              "    </tr>\n",
              "    <tr>\n",
              "      <th>0</th>\n",
              "      <td>13</td>\n",
              "      <td>PLENARPROTOKOLL</td>\n",
              "      <td>13/47</td>\n",
              "      <td>29.06.1995</td>\n",
              "      <td>Plenarprotokoll vom 29.06.1995</td>\n",
              "      <td>Plenarprotokoll 13/47\\nDeutscher Bundestag\\nSt...</td>\n",
              "    </tr>\n",
              "  </tbody>\n",
              "</table>\n",
              "</div>\n",
              "      <button class=\"colab-df-convert\" onclick=\"convertToInteractive('df-96342a9a-1fd3-4972-b81a-145cba682738')\"\n",
              "              title=\"Convert this dataframe to an interactive table.\"\n",
              "              style=\"display:none;\">\n",
              "        \n",
              "  <svg xmlns=\"http://www.w3.org/2000/svg\" height=\"24px\"viewBox=\"0 0 24 24\"\n",
              "       width=\"24px\">\n",
              "    <path d=\"M0 0h24v24H0V0z\" fill=\"none\"/>\n",
              "    <path d=\"M18.56 5.44l.94 2.06.94-2.06 2.06-.94-2.06-.94-.94-2.06-.94 2.06-2.06.94zm-11 1L8.5 8.5l.94-2.06 2.06-.94-2.06-.94L8.5 2.5l-.94 2.06-2.06.94zm10 10l.94 2.06.94-2.06 2.06-.94-2.06-.94-.94-2.06-.94 2.06-2.06.94z\"/><path d=\"M17.41 7.96l-1.37-1.37c-.4-.4-.92-.59-1.43-.59-.52 0-1.04.2-1.43.59L10.3 9.45l-7.72 7.72c-.78.78-.78 2.05 0 2.83L4 21.41c.39.39.9.59 1.41.59.51 0 1.02-.2 1.41-.59l7.78-7.78 2.81-2.81c.8-.78.8-2.07 0-2.86zM5.41 20L4 18.59l7.72-7.72 1.47 1.35L5.41 20z\"/>\n",
              "  </svg>\n",
              "      </button>\n",
              "      \n",
              "  <style>\n",
              "    .colab-df-container {\n",
              "      display:flex;\n",
              "      flex-wrap:wrap;\n",
              "      gap: 12px;\n",
              "    }\n",
              "\n",
              "    .colab-df-convert {\n",
              "      background-color: #E8F0FE;\n",
              "      border: none;\n",
              "      border-radius: 50%;\n",
              "      cursor: pointer;\n",
              "      display: none;\n",
              "      fill: #1967D2;\n",
              "      height: 32px;\n",
              "      padding: 0 0 0 0;\n",
              "      width: 32px;\n",
              "    }\n",
              "\n",
              "    .colab-df-convert:hover {\n",
              "      background-color: #E2EBFA;\n",
              "      box-shadow: 0px 1px 2px rgba(60, 64, 67, 0.3), 0px 1px 3px 1px rgba(60, 64, 67, 0.15);\n",
              "      fill: #174EA6;\n",
              "    }\n",
              "\n",
              "    [theme=dark] .colab-df-convert {\n",
              "      background-color: #3B4455;\n",
              "      fill: #D2E3FC;\n",
              "    }\n",
              "\n",
              "    [theme=dark] .colab-df-convert:hover {\n",
              "      background-color: #434B5C;\n",
              "      box-shadow: 0px 1px 3px 1px rgba(0, 0, 0, 0.15);\n",
              "      filter: drop-shadow(0px 1px 2px rgba(0, 0, 0, 0.3));\n",
              "      fill: #FFFFFF;\n",
              "    }\n",
              "  </style>\n",
              "\n",
              "      <script>\n",
              "        const buttonEl =\n",
              "          document.querySelector('#df-96342a9a-1fd3-4972-b81a-145cba682738 button.colab-df-convert');\n",
              "        buttonEl.style.display =\n",
              "          google.colab.kernel.accessAllowed ? 'block' : 'none';\n",
              "\n",
              "        async function convertToInteractive(key) {\n",
              "          const element = document.querySelector('#df-96342a9a-1fd3-4972-b81a-145cba682738');\n",
              "          const dataTable =\n",
              "            await google.colab.kernel.invokeFunction('convertToInteractive',\n",
              "                                                     [key], {});\n",
              "          if (!dataTable) return;\n",
              "\n",
              "          const docLinkHtml = 'Like what you see? Visit the ' +\n",
              "            '<a target=\"_blank\" href=https://colab.research.google.com/notebooks/data_table.ipynb>data table notebook</a>'\n",
              "            + ' to learn more about interactive tables.';\n",
              "          element.innerHTML = '';\n",
              "          dataTable['output_type'] = 'display_data';\n",
              "          await google.colab.output.renderOutput(dataTable, element);\n",
              "          const docLink = document.createElement('div');\n",
              "          docLink.innerHTML = docLinkHtml;\n",
              "          element.appendChild(docLink);\n",
              "        }\n",
              "      </script>\n",
              "    </div>\n",
              "  </div>\n",
              "  "
            ]
          },
          "metadata": {},
          "execution_count": 9
        }
      ],
      "source": [
        "df_final.head()"
      ]
    },
    {
      "cell_type": "markdown",
      "metadata": {
        "id": "qwiv17Dz8Qkz"
      },
      "source": [
        "## Data Cleaning"
      ]
    },
    {
      "cell_type": "code",
      "execution_count": 10,
      "metadata": {
        "id": "brNnDUmuBtNX",
        "colab": {
          "base_uri": "https://localhost:8080/"
        },
        "outputId": "1dd139aa-c77f-4253-b3b9-79582c23f741"
      },
      "outputs": [
        {
          "output_type": "stream",
          "name": "stderr",
          "text": [
            "[nltk_data] Downloading package punkt to /root/nltk_data...\n",
            "[nltk_data]   Package punkt is already up-to-date!\n",
            "[nltk_data] Downloading package stopwords to /root/nltk_data...\n",
            "[nltk_data]   Package stopwords is already up-to-date!\n"
          ]
        }
      ],
      "source": [
        "import nltk\n",
        "nltk.download('punkt')\n",
        "nltk.download('stopwords')\n",
        "from nltk.stem.snowball import SnowballStemmer\n",
        "from nltk.tokenize import word_tokenize\n",
        "from nltk.corpus import stopwords\n",
        "import re\n",
        "\n",
        "stemmer = SnowballStemmer(\"german\")\n",
        "stop_words = set(stopwords.words(\"german\"))\n",
        "\n",
        "\n",
        "def clean_text(text, for_embedding=False):\n",
        "    \"\"\"\n",
        "        - remove any html tags (< /br> often found)\n",
        "        - Keep only ASCII + European Chars and whitespace, no digits\n",
        "        - remove single letter chars\n",
        "        - convert all whitespaces (tabs etc.) to single wspace\n",
        "        if not for embedding (but e.g. tdf-idf):\n",
        "        - all lowercase\n",
        "        - remove stopwords, punctuation and stemm\n",
        "    \"\"\"\n",
        "    RE_WSPACE = re.compile(r\"\\s+\", re.IGNORECASE)\n",
        "    RE_TAGS = re.compile(r\"<[^>]+>\")\n",
        "    RE_ASCII = re.compile(r\"[^A-Za-zÀ-ž ]\", re.IGNORECASE)\n",
        "    RE_SINGLECHAR = re.compile(r\"\\b[A-Za-zÀ-ž]\\b\", re.IGNORECASE)\n",
        "    if for_embedding:\n",
        "        # Keep punctuation\n",
        "        RE_ASCII = re.compile(r\"[^A-Za-zÀ-ž,.!? ]\", re.IGNORECASE)\n",
        "        RE_SINGLECHAR = re.compile(r\"\\b[A-Za-zÀ-ž,.!?]\\b\", re.IGNORECASE)\n",
        "\n",
        "    text = re.sub(RE_TAGS, \" \", text)\n",
        "    text = re.sub(RE_ASCII, \" \", text)\n",
        "    text = re.sub(RE_SINGLECHAR, \" \", text)\n",
        "    text = re.sub(RE_WSPACE, \" \", text)\n",
        "\n",
        "    word_tokens = word_tokenize(text)\n",
        "    words_tokens_lower = [word.lower() for word in word_tokens]\n",
        "\n",
        "    if for_embedding:\n",
        "        # no stemming, lowering and punctuation / stop words removal\n",
        "        words_filtered = word_tokens\n",
        "    else:\n",
        "        words_filtered = [\n",
        "            stemmer.stem(word) for word in words_tokens_lower if word not in stop_words\n",
        "        ]\n",
        "\n",
        "    text_clean = \" \".join(words_filtered)\n",
        "    return text_clean"
      ]
    },
    {
      "cell_type": "code",
      "execution_count": 11,
      "metadata": {
        "id": "uto0AMuvBtQS"
      },
      "outputs": [],
      "source": [
        "df_final[\"text_clean\"] = df_final[\"text\"].map(lambda x: clean_text(x, for_embedding=False) if isinstance(x, str) else x)"
      ]
    },
    {
      "cell_type": "code",
      "execution_count": 12,
      "metadata": {
        "id": "sMd9loh_KRLM"
      },
      "outputs": [],
      "source": [
        "df_final.to_csv('/content/drive/My Drive/xml/clean.csv',index=False)"
      ]
    },
    {
      "cell_type": "code",
      "execution_count": 13,
      "metadata": {
        "id": "ZedNrpEiKj80"
      },
      "outputs": [],
      "source": [
        "df_clean = df_final.drop('text',axis=1)"
      ]
    },
    {
      "cell_type": "code",
      "execution_count": 14,
      "metadata": {
        "id": "dE8Kyb-np1uk",
        "colab": {
          "base_uri": "https://localhost:8080/",
          "height": 354
        },
        "outputId": "c9ead077-6780-4e5b-9ef3-3e398ca3810f"
      },
      "outputs": [
        {
          "output_type": "execute_result",
          "data": {
            "text/plain": [
              "  election period    document type number document        date  \\\n",
              "0              13  PLENARPROTOKOLL          13/110  13.06.1996   \n",
              "0              13  PLENARPROTOKOLL          13/238  28.05.1998   \n",
              "0              13  PLENARPROTOKOLL          13/241  18.06.1998   \n",
              "0              13  PLENARPROTOKOLL          13/244  24.06.1998   \n",
              "0              13  PLENARPROTOKOLL           13/47  29.06.1995   \n",
              "\n",
              "                            title  \\\n",
              "0  Plenarprotokoll vom 13.06.1996   \n",
              "0  Plenarprotokoll vom 28.05.1998   \n",
              "0  Plenarprotokoll vom 18.06.1998   \n",
              "0  Plenarprotokoll vom 24.06.1998   \n",
              "0  Plenarprotokoll vom 29.06.1995   \n",
              "\n",
              "                                                text  \\\n",
              "0  Plenarprotokoll 13/110\\n(Zu diesem Protokoll f...   \n",
              "0  Plenarprotokoll 13/238\\nDeutscher Bundestag\\nS...   \n",
              "0  Plenarprotokoll 13/241\\nDeutscher Bundestag\\nS...   \n",
              "0  Plenarprotokoll 13/244\\nDeutscher Bundestag\\nS...   \n",
              "0  Plenarprotokoll 13/47\\nDeutscher Bundestag\\nSt...   \n",
              "\n",
              "                                          text_clean  \n",
              "0  plenarprotokoll protokoll folgt nachtrag deuts...  \n",
              "0  plenarprotokoll deutsch bundestag stenograph b...  \n",
              "0  plenarprotokoll deutsch bundestag stenograph b...  \n",
              "0  plenarprotokoll deutsch bundestag stenograph b...  \n",
              "0  plenarprotokoll deutsch bundestag stenograph b...  "
            ],
            "text/html": [
              "\n",
              "  <div id=\"df-841cc493-01b4-4bf3-8460-72f33a7ae104\">\n",
              "    <div class=\"colab-df-container\">\n",
              "      <div>\n",
              "<style scoped>\n",
              "    .dataframe tbody tr th:only-of-type {\n",
              "        vertical-align: middle;\n",
              "    }\n",
              "\n",
              "    .dataframe tbody tr th {\n",
              "        vertical-align: top;\n",
              "    }\n",
              "\n",
              "    .dataframe thead th {\n",
              "        text-align: right;\n",
              "    }\n",
              "</style>\n",
              "<table border=\"1\" class=\"dataframe\">\n",
              "  <thead>\n",
              "    <tr style=\"text-align: right;\">\n",
              "      <th></th>\n",
              "      <th>election period</th>\n",
              "      <th>document type</th>\n",
              "      <th>number document</th>\n",
              "      <th>date</th>\n",
              "      <th>title</th>\n",
              "      <th>text</th>\n",
              "      <th>text_clean</th>\n",
              "    </tr>\n",
              "  </thead>\n",
              "  <tbody>\n",
              "    <tr>\n",
              "      <th>0</th>\n",
              "      <td>13</td>\n",
              "      <td>PLENARPROTOKOLL</td>\n",
              "      <td>13/110</td>\n",
              "      <td>13.06.1996</td>\n",
              "      <td>Plenarprotokoll vom 13.06.1996</td>\n",
              "      <td>Plenarprotokoll 13/110\\n(Zu diesem Protokoll f...</td>\n",
              "      <td>plenarprotokoll protokoll folgt nachtrag deuts...</td>\n",
              "    </tr>\n",
              "    <tr>\n",
              "      <th>0</th>\n",
              "      <td>13</td>\n",
              "      <td>PLENARPROTOKOLL</td>\n",
              "      <td>13/238</td>\n",
              "      <td>28.05.1998</td>\n",
              "      <td>Plenarprotokoll vom 28.05.1998</td>\n",
              "      <td>Plenarprotokoll 13/238\\nDeutscher Bundestag\\nS...</td>\n",
              "      <td>plenarprotokoll deutsch bundestag stenograph b...</td>\n",
              "    </tr>\n",
              "    <tr>\n",
              "      <th>0</th>\n",
              "      <td>13</td>\n",
              "      <td>PLENARPROTOKOLL</td>\n",
              "      <td>13/241</td>\n",
              "      <td>18.06.1998</td>\n",
              "      <td>Plenarprotokoll vom 18.06.1998</td>\n",
              "      <td>Plenarprotokoll 13/241\\nDeutscher Bundestag\\nS...</td>\n",
              "      <td>plenarprotokoll deutsch bundestag stenograph b...</td>\n",
              "    </tr>\n",
              "    <tr>\n",
              "      <th>0</th>\n",
              "      <td>13</td>\n",
              "      <td>PLENARPROTOKOLL</td>\n",
              "      <td>13/244</td>\n",
              "      <td>24.06.1998</td>\n",
              "      <td>Plenarprotokoll vom 24.06.1998</td>\n",
              "      <td>Plenarprotokoll 13/244\\nDeutscher Bundestag\\nS...</td>\n",
              "      <td>plenarprotokoll deutsch bundestag stenograph b...</td>\n",
              "    </tr>\n",
              "    <tr>\n",
              "      <th>0</th>\n",
              "      <td>13</td>\n",
              "      <td>PLENARPROTOKOLL</td>\n",
              "      <td>13/47</td>\n",
              "      <td>29.06.1995</td>\n",
              "      <td>Plenarprotokoll vom 29.06.1995</td>\n",
              "      <td>Plenarprotokoll 13/47\\nDeutscher Bundestag\\nSt...</td>\n",
              "      <td>plenarprotokoll deutsch bundestag stenograph b...</td>\n",
              "    </tr>\n",
              "  </tbody>\n",
              "</table>\n",
              "</div>\n",
              "      <button class=\"colab-df-convert\" onclick=\"convertToInteractive('df-841cc493-01b4-4bf3-8460-72f33a7ae104')\"\n",
              "              title=\"Convert this dataframe to an interactive table.\"\n",
              "              style=\"display:none;\">\n",
              "        \n",
              "  <svg xmlns=\"http://www.w3.org/2000/svg\" height=\"24px\"viewBox=\"0 0 24 24\"\n",
              "       width=\"24px\">\n",
              "    <path d=\"M0 0h24v24H0V0z\" fill=\"none\"/>\n",
              "    <path d=\"M18.56 5.44l.94 2.06.94-2.06 2.06-.94-2.06-.94-.94-2.06-.94 2.06-2.06.94zm-11 1L8.5 8.5l.94-2.06 2.06-.94-2.06-.94L8.5 2.5l-.94 2.06-2.06.94zm10 10l.94 2.06.94-2.06 2.06-.94-2.06-.94-.94-2.06-.94 2.06-2.06.94z\"/><path d=\"M17.41 7.96l-1.37-1.37c-.4-.4-.92-.59-1.43-.59-.52 0-1.04.2-1.43.59L10.3 9.45l-7.72 7.72c-.78.78-.78 2.05 0 2.83L4 21.41c.39.39.9.59 1.41.59.51 0 1.02-.2 1.41-.59l7.78-7.78 2.81-2.81c.8-.78.8-2.07 0-2.86zM5.41 20L4 18.59l7.72-7.72 1.47 1.35L5.41 20z\"/>\n",
              "  </svg>\n",
              "      </button>\n",
              "      \n",
              "  <style>\n",
              "    .colab-df-container {\n",
              "      display:flex;\n",
              "      flex-wrap:wrap;\n",
              "      gap: 12px;\n",
              "    }\n",
              "\n",
              "    .colab-df-convert {\n",
              "      background-color: #E8F0FE;\n",
              "      border: none;\n",
              "      border-radius: 50%;\n",
              "      cursor: pointer;\n",
              "      display: none;\n",
              "      fill: #1967D2;\n",
              "      height: 32px;\n",
              "      padding: 0 0 0 0;\n",
              "      width: 32px;\n",
              "    }\n",
              "\n",
              "    .colab-df-convert:hover {\n",
              "      background-color: #E2EBFA;\n",
              "      box-shadow: 0px 1px 2px rgba(60, 64, 67, 0.3), 0px 1px 3px 1px rgba(60, 64, 67, 0.15);\n",
              "      fill: #174EA6;\n",
              "    }\n",
              "\n",
              "    [theme=dark] .colab-df-convert {\n",
              "      background-color: #3B4455;\n",
              "      fill: #D2E3FC;\n",
              "    }\n",
              "\n",
              "    [theme=dark] .colab-df-convert:hover {\n",
              "      background-color: #434B5C;\n",
              "      box-shadow: 0px 1px 3px 1px rgba(0, 0, 0, 0.15);\n",
              "      filter: drop-shadow(0px 1px 2px rgba(0, 0, 0, 0.3));\n",
              "      fill: #FFFFFF;\n",
              "    }\n",
              "  </style>\n",
              "\n",
              "      <script>\n",
              "        const buttonEl =\n",
              "          document.querySelector('#df-841cc493-01b4-4bf3-8460-72f33a7ae104 button.colab-df-convert');\n",
              "        buttonEl.style.display =\n",
              "          google.colab.kernel.accessAllowed ? 'block' : 'none';\n",
              "\n",
              "        async function convertToInteractive(key) {\n",
              "          const element = document.querySelector('#df-841cc493-01b4-4bf3-8460-72f33a7ae104');\n",
              "          const dataTable =\n",
              "            await google.colab.kernel.invokeFunction('convertToInteractive',\n",
              "                                                     [key], {});\n",
              "          if (!dataTable) return;\n",
              "\n",
              "          const docLinkHtml = 'Like what you see? Visit the ' +\n",
              "            '<a target=\"_blank\" href=https://colab.research.google.com/notebooks/data_table.ipynb>data table notebook</a>'\n",
              "            + ' to learn more about interactive tables.';\n",
              "          element.innerHTML = '';\n",
              "          dataTable['output_type'] = 'display_data';\n",
              "          await google.colab.output.renderOutput(dataTable, element);\n",
              "          const docLink = document.createElement('div');\n",
              "          docLink.innerHTML = docLinkHtml;\n",
              "          element.appendChild(docLink);\n",
              "        }\n",
              "      </script>\n",
              "    </div>\n",
              "  </div>\n",
              "  "
            ]
          },
          "metadata": {},
          "execution_count": 14
        }
      ],
      "source": [
        "df_final.head()"
      ]
    },
    {
      "cell_type": "markdown",
      "metadata": {
        "id": "ADuR-RcoLSfb"
      },
      "source": [
        "# Analysis"
      ]
    },
    {
      "cell_type": "code",
      "execution_count": 15,
      "metadata": {
        "id": "Orm-oTwZPJnE"
      },
      "outputs": [],
      "source": [
        "import pandas as pd"
      ]
    },
    {
      "cell_type": "code",
      "execution_count": 16,
      "metadata": {
        "id": "Fs76I5E-v-dd"
      },
      "outputs": [],
      "source": [
        "df_final = pd.read_csv('/content/drive/My Drive/xml/clean.csv').drop('text',axis=1)"
      ]
    },
    {
      "cell_type": "markdown",
      "metadata": {
        "id": "ArIJN_k1sN0T"
      },
      "source": [
        "### Model Training (Word2Vec model)\n",
        "\n",
        "In this section we will train our word2vec model"
      ]
    },
    {
      "cell_type": "code",
      "execution_count": 17,
      "metadata": {
        "id": "o7Lc5vavsSVo"
      },
      "outputs": [],
      "source": [
        "import multiprocessing\n",
        "from gensim.models import Word2Vec\n",
        "from gensim.models.phrases import Phrases, Phraser"
      ]
    },
    {
      "cell_type": "code",
      "source": [
        "\"\"\"multiprocessing is a package that supports spawning processes using an API similar to the threading module.\"\"\"\n"
      ],
      "metadata": {
        "id": "lY6RFHl0RXZc",
        "colab": {
          "base_uri": "https://localhost:8080/",
          "height": 35
        },
        "outputId": "b9d2b56e-b8eb-4522-bda9-78dffbf4ba97"
      },
      "execution_count": 18,
      "outputs": [
        {
          "output_type": "execute_result",
          "data": {
            "text/plain": [
              "'multiprocessing is a package that supports spawning processes using an API similar to the threading module.'"
            ],
            "application/vnd.google.colaboratory.intrinsic+json": {
              "type": "string"
            }
          },
          "metadata": {},
          "execution_count": 18
        }
      ]
    },
    {
      "cell_type": "code",
      "execution_count": 18,
      "metadata": {
        "id": "-DbmSNAquEZD"
      },
      "outputs": [],
      "source": []
    },
    {
      "cell_type": "code",
      "execution_count": 19,
      "metadata": {
        "id": "K8w7WRlRuE0l"
      },
      "outputs": [],
      "source": [
        "sent = [row.split() for row in df_final['text_clean']]"
      ]
    },
    {
      "cell_type": "code",
      "execution_count": 20,
      "metadata": {
        "id": "6DgQEzvouJ3W"
      },
      "outputs": [],
      "source": [
        "phrases = Phrases(sent, min_count=30, progress_per=10000)"
      ]
    },
    {
      "cell_type": "code",
      "execution_count": 21,
      "metadata": {
        "id": "gV6BLdWXuJ6W"
      },
      "outputs": [],
      "source": [
        "bigram = Phraser(phrases)"
      ]
    },
    {
      "cell_type": "code",
      "execution_count": 22,
      "metadata": {
        "id": "jwPJ3EXyuTvo"
      },
      "outputs": [],
      "source": [
        "sentences = bigram[sent]"
      ]
    },
    {
      "cell_type": "code",
      "execution_count": 23,
      "metadata": {
        "id": "UFY-UzymueLe"
      },
      "outputs": [],
      "source": [
        "cores = multiprocessing.cpu_count()"
      ]
    },
    {
      "cell_type": "code",
      "execution_count": 24,
      "metadata": {
        "id": "xn5FHc87w-jN"
      },
      "outputs": [],
      "source": [
        "w2v_model = Word2Vec(min_count=20,\n",
        "                     window=2,\n",
        "                     size=100,\n",
        "                     workers=cores-1)"
      ]
    },
    {
      "cell_type": "code",
      "execution_count": 25,
      "metadata": {
        "id": "czIlA4Smuibn",
        "colab": {
          "base_uri": "https://localhost:8080/"
        },
        "outputId": "68d75fdd-74a6-4ee8-bee4-ccc2721142f1"
      },
      "outputs": [
        {
          "output_type": "stream",
          "name": "stdout",
          "text": [
            "Time to build vocab: 0.5 mins\n"
          ]
        }
      ],
      "source": [
        "from time import time\n",
        "t = time()\n",
        "w2v_model.build_vocab(sent, progress_per=10000)\n",
        "print('Time to build vocab: {} mins'.format(round((time() - t) / 60, 2)))"
      ]
    },
    {
      "cell_type": "code",
      "execution_count": 26,
      "metadata": {
        "id": "ziLV7dwCuleL",
        "colab": {
          "base_uri": "https://localhost:8080/"
        },
        "outputId": "0a04e990-9659-44cf-88e9-c77fb61199fa"
      },
      "outputs": [
        {
          "output_type": "stream",
          "name": "stdout",
          "text": [
            "Time to train the model: 3.25 mins\n"
          ]
        }
      ],
      "source": [
        "t = time()\n",
        "w2v_model.train(sent, total_examples=w2v_model.corpus_count, epochs=5, report_delay=1)\n",
        "print('Time to train the model: {} mins'.format(round((time() - t) / 60, 2)))"
      ]
    },
    {
      "cell_type": "code",
      "execution_count": 27,
      "metadata": {
        "id": "xbNDLyZUyYfI"
      },
      "outputs": [],
      "source": [
        "w2v_model.init_sims(replace=True)"
      ]
    },
    {
      "cell_type": "code",
      "execution_count": 28,
      "metadata": {
        "id": "cmMHQ51ZyYir"
      },
      "outputs": [],
      "source": [
        "w2v_model.save(\"/content/drive/My Drive/xml/models/word2vec2.model\")"
      ]
    },
    {
      "cell_type": "markdown",
      "metadata": {
        "id": "tmgfwkvKziLo"
      },
      "source": [
        "### Word extraction"
      ]
    },
    {
      "cell_type": "code",
      "execution_count": 29,
      "metadata": {
        "id": "KOE0PZmWbpOC",
        "colab": {
          "base_uri": "https://localhost:8080/"
        },
        "outputId": "971e2d05-7ae2-4399-c0d7-be5c3a4b46e1"
      },
      "outputs": [
        {
          "output_type": "stream",
          "name": "stdout",
          "text": [
            "Looking in indexes: https://pypi.org/simple, https://us-python.pkg.dev/colab-wheels/public/simple/\n",
            "Requirement already satisfied: googletrans==3.1.0a0 in /usr/local/lib/python3.7/dist-packages (3.1.0a0)\n",
            "Requirement already satisfied: httpx==0.13.3 in /usr/local/lib/python3.7/dist-packages (from googletrans==3.1.0a0) (0.13.3)\n",
            "Requirement already satisfied: idna==2.* in /usr/local/lib/python3.7/dist-packages (from httpx==0.13.3->googletrans==3.1.0a0) (2.10)\n",
            "Requirement already satisfied: chardet==3.* in /usr/local/lib/python3.7/dist-packages (from httpx==0.13.3->googletrans==3.1.0a0) (3.0.4)\n",
            "Requirement already satisfied: sniffio in /usr/local/lib/python3.7/dist-packages (from httpx==0.13.3->googletrans==3.1.0a0) (1.2.0)\n",
            "Requirement already satisfied: certifi in /usr/local/lib/python3.7/dist-packages (from httpx==0.13.3->googletrans==3.1.0a0) (2022.6.15)\n",
            "Requirement already satisfied: rfc3986<2,>=1.3 in /usr/local/lib/python3.7/dist-packages (from httpx==0.13.3->googletrans==3.1.0a0) (1.5.0)\n",
            "Requirement already satisfied: httpcore==0.9.* in /usr/local/lib/python3.7/dist-packages (from httpx==0.13.3->googletrans==3.1.0a0) (0.9.1)\n",
            "Requirement already satisfied: hstspreload in /usr/local/lib/python3.7/dist-packages (from httpx==0.13.3->googletrans==3.1.0a0) (2022.8.1)\n",
            "Requirement already satisfied: h2==3.* in /usr/local/lib/python3.7/dist-packages (from httpcore==0.9.*->httpx==0.13.3->googletrans==3.1.0a0) (3.2.0)\n",
            "Requirement already satisfied: h11<0.10,>=0.8 in /usr/local/lib/python3.7/dist-packages (from httpcore==0.9.*->httpx==0.13.3->googletrans==3.1.0a0) (0.9.0)\n",
            "Requirement already satisfied: hpack<4,>=3.0 in /usr/local/lib/python3.7/dist-packages (from h2==3.*->httpcore==0.9.*->httpx==0.13.3->googletrans==3.1.0a0) (3.0.0)\n",
            "Requirement already satisfied: hyperframe<6,>=5.2.0 in /usr/local/lib/python3.7/dist-packages (from h2==3.*->httpcore==0.9.*->httpx==0.13.3->googletrans==3.1.0a0) (5.2.0)\n"
          ]
        }
      ],
      "source": [
        "!pip install googletrans==3.1.0a0"
      ]
    },
    {
      "cell_type": "code",
      "execution_count": 30,
      "metadata": {
        "id": "748jqH6PzkRn"
      },
      "outputs": [],
      "source": [
        "import gensim\n",
        "mvk = gensim.models.Word2Vec.load(\"/content/drive/My Drive/xml/models/word2vec2.model\")"
      ]
    },
    {
      "cell_type": "code",
      "execution_count": 31,
      "metadata": {
        "id": "FsAjmGwjbvm1"
      },
      "outputs": [],
      "source": [
        "from googletrans import Translator\n",
        "translator = Translator()"
      ]
    },
    {
      "cell_type": "code",
      "execution_count": 32,
      "metadata": {
        "id": "_d_Atp80rswc"
      },
      "outputs": [],
      "source": [
        "all = ['deutsch', 'deutscher', 'deutsche', #'deutschland',\n",
        "       'türkisch', 'türke', 'türken', #'türkei',\n",
        "       'polnisch', 'polin', 'pole', #'polen',\n",
        "       'russen', 'russisch', 'russin', #'russland',\n",
        "       'griechisch', 'grieche', 'griechen', #'griechenland',\n",
        "       'rumänisch', 'rumäne', 'rumänen', #'rumänien',\n",
        "       'arabisch',\n",
        "       'italienisch', 'italiäner', #'italien',\n",
        "       'syrisch', 'syrer', 'syrien',\n",
        "       'niederländisch', 'niederländer', #'niederlande', 'holland',\n",
        "       'marokkanisch', 'marokkaner', #'marokko',\n",
        "       'somali', 'somalien',\n",
        "       'afghanisch', 'afghane', 'afghanen', #'afghanistan',\n",
        "       'irakisch', 'irake', 'iraken', #'irak',\n",
        "       'ausländer', 'einwanderer', 'flüchtling', 'flüchtlinge', 'migrant']"
      ]
    },
    {
      "cell_type": "code",
      "source": [],
      "metadata": {
        "id": "jHPIGjoMGw1K"
      },
      "execution_count": 32,
      "outputs": []
    },
    {
      "cell_type": "markdown",
      "source": [
        "### Compute frequency"
      ],
      "metadata": {
        "id": "7mbp7es6N8ba"
      }
    },
    {
      "cell_type": "code",
      "source": [
        "from googletrans import Translator"
      ],
      "metadata": {
        "id": "LtEtKgxHBozo"
      },
      "execution_count": 33,
      "outputs": []
    },
    {
      "cell_type": "code",
      "execution_count": 34,
      "metadata": {
        "id": "LrapQGRDlMPr"
      },
      "outputs": [],
      "source": [
        "list_word_german1 = []\n",
        "for l in all:\n",
        "  list_word_german1.append(translator.translate(l, dest='german').text)\n",
        "all = all+list_word_german1"
      ]
    },
    {
      "cell_type": "code",
      "execution_count": 35,
      "metadata": {
        "id": "n4f9E1q7eBuS"
      },
      "outputs": [],
      "source": [
        "def compute_frequency(word_list):\n",
        "  dict_r = {}\n",
        "  for wordd in word_list:\n",
        "    sum_freq = 0\n",
        "    for word in [wordd,wordd+'s']:\n",
        "      try:\n",
        "        freq_words = [x[0] for x in mvk.wv.most_similar(positive=word, topn=100)]\n",
        "        for f in freq_words:\n",
        "          freq = mvk.wv.vocab[f].count\n",
        "          sum_freq+=freq\n",
        "        dict_r[wordd] = sum_freq\n",
        "      except:\n",
        "        continue\n",
        "  return dict_r"
      ]
    },
    {
      "cell_type": "code",
      "source": [
        "frequencies = compute_frequency(all)\n",
        "frequencies"
      ],
      "metadata": {
        "id": "o89HI2RI3Flq",
        "colab": {
          "base_uri": "https://localhost:8080/"
        },
        "outputId": "40c3b087-6a71-478d-ae93-9d27fff76b27"
      },
      "execution_count": 36,
      "outputs": [
        {
          "output_type": "execute_result",
          "data": {
            "text/plain": [
              "{'deutsch': 516296,\n",
              " 'polnisch': 95227,\n",
              " 'russisch': 96400,\n",
              " 'griechisch': 68429,\n",
              " 'syrisch': 59671,\n",
              " 'somali': 9426,\n",
              " 'migrant': 222866}"
            ]
          },
          "metadata": {},
          "execution_count": 36
        }
      ]
    },
    {
      "cell_type": "code",
      "source": [
        "groupss = {'deutsch':'ingroup','griechisch':'outgroup','migrant':'outgroup','polnisch':'outgroup','somali':'outgroup','syrisch':'outgroup','russisch':'outgroup'}"
      ],
      "metadata": {
        "id": "wxyhyMkDs434"
      },
      "execution_count": 37,
      "outputs": []
    },
    {
      "cell_type": "markdown",
      "source": [
        "### Compute High-threat and low status\n",
        "\n"
      ],
      "metadata": {
        "id": "lK0Q0HplN_nO"
      }
    },
    {
      "cell_type": "code",
      "source": [
        "import multiprocessing\n",
        "from gensim.models import Word2Vec\n",
        "from gensim.models.phrases import Phrases, Phraser"
      ],
      "metadata": {
        "id": "XeiUUT6lBzKF"
      },
      "execution_count": 38,
      "outputs": []
    },
    {
      "cell_type": "code",
      "source": [
        "import re\n",
        "high_treat_words =  open(\"/content/drive/My Drive/xml/ressources/high threat.txt\",\"r\").read()\n",
        "low_status       =  open(\"/content/drive/My Drive/xml/ressources/low statuts.txt\",\"r\").read()\n",
        "crime            =  open(\"/content/drive/My Drive/xml/ressources/crime.txt\",\"r\").read()\n",
        "\n",
        "high_treat_words =  [i.lstrip() for i in re.sub('\\s+',' ',high_treat_words).split(',') ]\n",
        "low_status       =  [i.lstrip() for i in re.sub('\\s+',' ',low_status).split(',')]\n",
        "crime       = crime.split('\\n')\n",
        "high_treat_words = high_treat_words+crime\n",
        "low_status_trans = []\n",
        "high_treat_trans  = []\n",
        "for l in low_status:\n",
        "  low_status_trans.append(translator.translate(l, dest='german').text)\n",
        "for l in high_treat_words:\n",
        "  high_treat_trans.append(translator.translate(l, dest='german').text)\n",
        "for l in crime:\n",
        "  high_treat_trans.append(translator.translate(l, dest='german').text)\n",
        "high_threat_all = high_treat_trans + high_treat_words\n",
        "low_status_all  = low_status_trans + low_status"
      ],
      "metadata": {
        "id": "fT9FZHsdOO_7"
      },
      "execution_count": 39,
      "outputs": []
    },
    {
      "cell_type": "code",
      "source": [
        "import itertools\n",
        "tars = list(frequencies.keys())\n",
        "def get_scores(inputt):\n",
        "  scores = {}\n",
        "  for tar in tars:\n",
        "    sum = 0\n",
        "    for pair in inputt:\n",
        "        try:\n",
        "          resultaat_tel = mvk.wv.similarity(pair,tar)\n",
        "        except KeyError:\n",
        "          resultaat_tel = 0\n",
        "        sum+=resultaat_tel\n",
        "    scores[tar] = sum/len(inputt)\n",
        "  return scores"
      ],
      "metadata": {
        "id": "W2PB2oWvOPLm"
      },
      "execution_count": 40,
      "outputs": []
    },
    {
      "cell_type": "code",
      "source": [
        "\n",
        "df_results = pd.DataFrame()\n",
        "df_results['names'] = list(frequencies.keys())\n",
        "df_results['frequencies'] = list(frequencies.values())\n",
        "df_results['groups'] = ['outgroup','outgroup','outgroup','outgroup','outgroup','outgroup','ingroup']\n",
        "scores_lowstatus  = get_scores(low_status_all)\n",
        "scores_highthreat = get_scores(high_threat_all)\n",
        "df_results['scores_lowstatus']  = [x*10 for x in list(scores_lowstatus.values())]\n",
        "df_results['scores_highthreat'] = [x*10 for x in list(scores_highthreat.values())]\n",
        "df_results[\"names:group\"] = df_results[\"names\"] + '/'+ df_results[\"groups\"]\n",
        "df_results.drop(['names','groups'],axis=1,inplace=True)\n",
        "df_results"
      ],
      "metadata": {
        "id": "ZnAWayMoaVt4",
        "colab": {
          "base_uri": "https://localhost:8080/",
          "height": 269
        },
        "outputId": "e752c3fa-75aa-4c70-d1d5-04075797c394"
      },
      "execution_count": 41,
      "outputs": [
        {
          "output_type": "execute_result",
          "data": {
            "text/plain": [
              "   frequencies  scores_lowstatus  scores_highthreat          names:group\n",
              "0       516296          0.012374           0.006080     deutsch/outgroup\n",
              "1        95227          0.041002           0.044219    polnisch/outgroup\n",
              "2        96400          0.064851           0.066703    russisch/outgroup\n",
              "3        68429          0.083226           0.044200  griechisch/outgroup\n",
              "4        59671          0.126072           0.089379     syrisch/outgroup\n",
              "5         9426          0.207590           0.093715      somali/outgroup\n",
              "6       222866          0.182398           0.057862      migrant/ingroup"
            ],
            "text/html": [
              "\n",
              "  <div id=\"df-8a8dc332-6709-45af-b898-021873a2e40d\">\n",
              "    <div class=\"colab-df-container\">\n",
              "      <div>\n",
              "<style scoped>\n",
              "    .dataframe tbody tr th:only-of-type {\n",
              "        vertical-align: middle;\n",
              "    }\n",
              "\n",
              "    .dataframe tbody tr th {\n",
              "        vertical-align: top;\n",
              "    }\n",
              "\n",
              "    .dataframe thead th {\n",
              "        text-align: right;\n",
              "    }\n",
              "</style>\n",
              "<table border=\"1\" class=\"dataframe\">\n",
              "  <thead>\n",
              "    <tr style=\"text-align: right;\">\n",
              "      <th></th>\n",
              "      <th>frequencies</th>\n",
              "      <th>scores_lowstatus</th>\n",
              "      <th>scores_highthreat</th>\n",
              "      <th>names:group</th>\n",
              "    </tr>\n",
              "  </thead>\n",
              "  <tbody>\n",
              "    <tr>\n",
              "      <th>0</th>\n",
              "      <td>516296</td>\n",
              "      <td>0.012374</td>\n",
              "      <td>0.006080</td>\n",
              "      <td>deutsch/outgroup</td>\n",
              "    </tr>\n",
              "    <tr>\n",
              "      <th>1</th>\n",
              "      <td>95227</td>\n",
              "      <td>0.041002</td>\n",
              "      <td>0.044219</td>\n",
              "      <td>polnisch/outgroup</td>\n",
              "    </tr>\n",
              "    <tr>\n",
              "      <th>2</th>\n",
              "      <td>96400</td>\n",
              "      <td>0.064851</td>\n",
              "      <td>0.066703</td>\n",
              "      <td>russisch/outgroup</td>\n",
              "    </tr>\n",
              "    <tr>\n",
              "      <th>3</th>\n",
              "      <td>68429</td>\n",
              "      <td>0.083226</td>\n",
              "      <td>0.044200</td>\n",
              "      <td>griechisch/outgroup</td>\n",
              "    </tr>\n",
              "    <tr>\n",
              "      <th>4</th>\n",
              "      <td>59671</td>\n",
              "      <td>0.126072</td>\n",
              "      <td>0.089379</td>\n",
              "      <td>syrisch/outgroup</td>\n",
              "    </tr>\n",
              "    <tr>\n",
              "      <th>5</th>\n",
              "      <td>9426</td>\n",
              "      <td>0.207590</td>\n",
              "      <td>0.093715</td>\n",
              "      <td>somali/outgroup</td>\n",
              "    </tr>\n",
              "    <tr>\n",
              "      <th>6</th>\n",
              "      <td>222866</td>\n",
              "      <td>0.182398</td>\n",
              "      <td>0.057862</td>\n",
              "      <td>migrant/ingroup</td>\n",
              "    </tr>\n",
              "  </tbody>\n",
              "</table>\n",
              "</div>\n",
              "      <button class=\"colab-df-convert\" onclick=\"convertToInteractive('df-8a8dc332-6709-45af-b898-021873a2e40d')\"\n",
              "              title=\"Convert this dataframe to an interactive table.\"\n",
              "              style=\"display:none;\">\n",
              "        \n",
              "  <svg xmlns=\"http://www.w3.org/2000/svg\" height=\"24px\"viewBox=\"0 0 24 24\"\n",
              "       width=\"24px\">\n",
              "    <path d=\"M0 0h24v24H0V0z\" fill=\"none\"/>\n",
              "    <path d=\"M18.56 5.44l.94 2.06.94-2.06 2.06-.94-2.06-.94-.94-2.06-.94 2.06-2.06.94zm-11 1L8.5 8.5l.94-2.06 2.06-.94-2.06-.94L8.5 2.5l-.94 2.06-2.06.94zm10 10l.94 2.06.94-2.06 2.06-.94-2.06-.94-.94-2.06-.94 2.06-2.06.94z\"/><path d=\"M17.41 7.96l-1.37-1.37c-.4-.4-.92-.59-1.43-.59-.52 0-1.04.2-1.43.59L10.3 9.45l-7.72 7.72c-.78.78-.78 2.05 0 2.83L4 21.41c.39.39.9.59 1.41.59.51 0 1.02-.2 1.41-.59l7.78-7.78 2.81-2.81c.8-.78.8-2.07 0-2.86zM5.41 20L4 18.59l7.72-7.72 1.47 1.35L5.41 20z\"/>\n",
              "  </svg>\n",
              "      </button>\n",
              "      \n",
              "  <style>\n",
              "    .colab-df-container {\n",
              "      display:flex;\n",
              "      flex-wrap:wrap;\n",
              "      gap: 12px;\n",
              "    }\n",
              "\n",
              "    .colab-df-convert {\n",
              "      background-color: #E8F0FE;\n",
              "      border: none;\n",
              "      border-radius: 50%;\n",
              "      cursor: pointer;\n",
              "      display: none;\n",
              "      fill: #1967D2;\n",
              "      height: 32px;\n",
              "      padding: 0 0 0 0;\n",
              "      width: 32px;\n",
              "    }\n",
              "\n",
              "    .colab-df-convert:hover {\n",
              "      background-color: #E2EBFA;\n",
              "      box-shadow: 0px 1px 2px rgba(60, 64, 67, 0.3), 0px 1px 3px 1px rgba(60, 64, 67, 0.15);\n",
              "      fill: #174EA6;\n",
              "    }\n",
              "\n",
              "    [theme=dark] .colab-df-convert {\n",
              "      background-color: #3B4455;\n",
              "      fill: #D2E3FC;\n",
              "    }\n",
              "\n",
              "    [theme=dark] .colab-df-convert:hover {\n",
              "      background-color: #434B5C;\n",
              "      box-shadow: 0px 1px 3px 1px rgba(0, 0, 0, 0.15);\n",
              "      filter: drop-shadow(0px 1px 2px rgba(0, 0, 0, 0.3));\n",
              "      fill: #FFFFFF;\n",
              "    }\n",
              "  </style>\n",
              "\n",
              "      <script>\n",
              "        const buttonEl =\n",
              "          document.querySelector('#df-8a8dc332-6709-45af-b898-021873a2e40d button.colab-df-convert');\n",
              "        buttonEl.style.display =\n",
              "          google.colab.kernel.accessAllowed ? 'block' : 'none';\n",
              "\n",
              "        async function convertToInteractive(key) {\n",
              "          const element = document.querySelector('#df-8a8dc332-6709-45af-b898-021873a2e40d');\n",
              "          const dataTable =\n",
              "            await google.colab.kernel.invokeFunction('convertToInteractive',\n",
              "                                                     [key], {});\n",
              "          if (!dataTable) return;\n",
              "\n",
              "          const docLinkHtml = 'Like what you see? Visit the ' +\n",
              "            '<a target=\"_blank\" href=https://colab.research.google.com/notebooks/data_table.ipynb>data table notebook</a>'\n",
              "            + ' to learn more about interactive tables.';\n",
              "          element.innerHTML = '';\n",
              "          dataTable['output_type'] = 'display_data';\n",
              "          await google.colab.output.renderOutput(dataTable, element);\n",
              "          const docLink = document.createElement('div');\n",
              "          docLink.innerHTML = docLinkHtml;\n",
              "          element.appendChild(docLink);\n",
              "        }\n",
              "      </script>\n",
              "    </div>\n",
              "  </div>\n",
              "  "
            ]
          },
          "metadata": {},
          "execution_count": 41
        }
      ]
    },
    {
      "cell_type": "code",
      "source": [
        "import seaborn as sns\n",
        "import matplotlib.pyplot as plt\n",
        "plt.figure(figsize=(15,5))\n",
        "sns.scatterplot(data=df_results,x='scores_lowstatus',y='scores_highthreat',hue=\"names:group\",size=\"frequencies\")"
      ],
      "metadata": {
        "id": "Z9JGRs4_KbYJ",
        "colab": {
          "base_uri": "https://localhost:8080/",
          "height": 353
        },
        "outputId": "94d8efd4-0320-4d85-ace8-f103a96440e3"
      },
      "execution_count": 42,
      "outputs": [
        {
          "output_type": "execute_result",
          "data": {
            "text/plain": [
              "<matplotlib.axes._subplots.AxesSubplot at 0x7f2cfb50c390>"
            ]
          },
          "metadata": {},
          "execution_count": 42
        },
        {
          "output_type": "display_data",
          "data": {
            "text/plain": [
              "<Figure size 1080x360 with 1 Axes>"
            ],
            "image/png": "[encoded data removed]"
          },
          "metadata": {
            "needs_background": "light"
          }
        }
      ]
    },
    {
      "cell_type": "code",
      "source": [
        "del mvk"
      ],
      "metadata": {
        "id": "G9agZyaRCNAT",
        "colab": {
          "base_uri": "https://localhost:8080/",
          "height": 169
        },
        "outputId": "489d6b91-ec91-4f0e-b437-8de77637dccc"
      },
      "execution_count": 1,
      "outputs": [
        {
          "output_type": "error",
          "ename": "NameError",
          "evalue": "ignored",
          "traceback": [
            "\u001b[0;31m---------------------------------------------------------------------------\u001b[0m",
            "\u001b[0;31mNameError\u001b[0m                                 Traceback (most recent call last)",
            "\u001b[0;32m<ipython-input-1-b1dbc4b0d81a>\u001b[0m in \u001b[0;36m<module>\u001b[0;34m\u001b[0m\n\u001b[0;32m----> 1\u001b[0;31m \u001b[0;32mdel\u001b[0m \u001b[0mmvk\u001b[0m\u001b[0;34m\u001b[0m\u001b[0;34m\u001b[0m\u001b[0m\n\u001b[0m",
            "\u001b[0;31mNameError\u001b[0m: name 'mvk' is not defined"
          ]
        }
      ]
    },
    {
      "cell_type": "markdown",
      "source": [
        "### Question 1\n",
        "\n",
        "Hypothesis 1 (H1): Does politicans implicitly associate ethnic outgroups more\n",
        "strongly with low-status traits than ethnic ingroups. \n",
        "\n",
        "* Low statuts traits are clearly associated with ingroups, which is represented by the low status score of deutsch (about 0.001) and griechish (about 0.06). In the other hand, we can observe high low status regrading outgroups such as migrant with a score of (>0.17) and pool(more than 0.2)."
      ],
      "metadata": {
        "id": "Uf90HqJxQCub"
      }
    },
    {
      "cell_type": "markdown",
      "source": [
        "### Question 2\n",
        "\n",
        "Hypothesis 2 (H2): Does politicans implicitly associate ethnic outgroups more\n",
        "strongly with high-threat traits than to ethnic ingroups. \n",
        "\n",
        "* Regarding the plot above generated from word2vec trained model, we can observe the following:\n",
        "  * The most frequent InGroup (deutsh) is clearly related to a very low high_threat score (less than 0.01 as a highThreat score). Where outgroups have a greater score.\n",
        "\n",
        "Thus, the answer of our question is that politician relate HighThreat with outgroups than ingroups.\n",
        "\n",
        "\n"
      ],
      "metadata": {
        "id": "SfhBEzmI_ost"
      }
    },
    {
      "cell_type": "markdown",
      "source": [
        "### Over Time analysis"
      ],
      "metadata": {
        "id": "wIuPJEKcUUC0"
      }
    },
    {
      "cell_type": "code",
      "source": [
        "df_final.head(-1)"
      ],
      "metadata": {
        "id": "ptpm4BZ2UjBB",
        "colab": {
          "base_uri": "https://localhost:8080/",
          "height": 169
        },
        "outputId": "d7c1fa72-79fb-49c0-882c-6e7d3624e9b2"
      },
      "execution_count": 2,
      "outputs": [
        {
          "output_type": "error",
          "ename": "NameError",
          "evalue": "ignored",
          "traceback": [
            "\u001b[0;31m---------------------------------------------------------------------------\u001b[0m",
            "\u001b[0;31mNameError\u001b[0m                                 Traceback (most recent call last)",
            "\u001b[0;32m<ipython-input-2-335817006cba>\u001b[0m in \u001b[0;36m<module>\u001b[0;34m\u001b[0m\n\u001b[0;32m----> 1\u001b[0;31m \u001b[0mdf_final\u001b[0m\u001b[0;34m.\u001b[0m\u001b[0mhead\u001b[0m\u001b[0;34m(\u001b[0m\u001b[0;34m-\u001b[0m\u001b[0;36m1\u001b[0m\u001b[0;34m)\u001b[0m\u001b[0;34m\u001b[0m\u001b[0;34m\u001b[0m\u001b[0m\n\u001b[0m",
            "\u001b[0;31mNameError\u001b[0m: name 'df_final' is not defined"
          ]
        }
      ]
    },
    {
      "cell_type": "code",
      "source": [
        "period_1 = '01-01-1994'\n",
        "period_2 = '01-01-1998'\n",
        "period_3 = '01-01-2002'"
      ],
      "metadata": {
        "id": "SsxjexEDVOVM"
      },
      "execution_count": 45,
      "outputs": []
    },
    {
      "cell_type": "code",
      "source": [
        "df_final['date'] = pd.to_datetime(df_final['date'])"
      ],
      "metadata": {
        "id": "UI3gOXCAn6MY"
      },
      "execution_count": 46,
      "outputs": []
    },
    {
      "cell_type": "code",
      "source": [
        "df_final[(df_final['date'] > period_1) & (df_final['date'] <= period_2)].shape"
      ],
      "metadata": {
        "id": "OdJGRykinwj-",
        "colab": {
          "base_uri": "https://localhost:8080/"
        },
        "outputId": "04f81c3b-b168-45c2-f2f3-b0f1c21a5a31"
      },
      "execution_count": 47,
      "outputs": [
        {
          "output_type": "execute_result",
          "data": {
            "text/plain": [
              "(157, 6)"
            ]
          },
          "metadata": {},
          "execution_count": 47
        }
      ]
    },
    {
      "cell_type": "code",
      "source": [
        "def train_time(period1,period2=None,fin=False):\n",
        "    p = period1.split('-')[2]\n",
        "    if fin==False:\n",
        "      df_p = df_final[(df_final['date'] > period1) & (df_final['date'] <= period2)]\n",
        "    else:\n",
        "      df_p = df_final[df_final['date'] > period1]\n",
        "    sent = [row.split() for row in df_p['text_clean']]\n",
        "    phrases = Phrases(sent, min_count=30, progress_per=10000)\n",
        "    bigram = Phraser(phrases)\n",
        "    sentences = bigram[sent]\n",
        "    cores = multiprocessing.cpu_count()\n",
        "    w2v_model = Word2Vec(min_count=20,\n",
        "                     window=2,\n",
        "                     size=100,\n",
        "                     workers=cores-1)\n",
        "    w2v_model.build_vocab(sent, progress_per=10000)\n",
        "    w2v_model.train(sent, total_examples=w2v_model.corpus_count, epochs=5, report_delay=1)\n",
        "    w2v_model.save(\"/content/drive/My Drive/xml/models/word2vec_{}.model\".format(p))"
      ],
      "metadata": {
        "id": "c6_ryACETvRy"
      },
      "execution_count": 48,
      "outputs": []
    },
    {
      "cell_type": "code",
      "source": [
        "train_time(period_1,period_2)"
      ],
      "metadata": {
        "id": "awLHqOtwV10D"
      },
      "execution_count": 49,
      "outputs": []
    },
    {
      "cell_type": "code",
      "source": [
        "train_time(period_2,period_3)"
      ],
      "metadata": {
        "id": "-XtQ_n1TXLcB"
      },
      "execution_count": 50,
      "outputs": []
    },
    {
      "cell_type": "code",
      "source": [
        "train_time(period_3,fin=True)"
      ],
      "metadata": {
        "id": "W3t7wWJ0XLfD"
      },
      "execution_count": null,
      "outputs": []
    },
    {
      "cell_type": "code",
      "source": [
        "def compute_frequenccy(word_list,mvk_in):\n",
        "  dict_r = {}\n",
        "  for wordd in word_list:\n",
        "    sum_freq = 0\n",
        "    for word in [wordd,wordd+'s']:\n",
        "      try:\n",
        "        freq_words = [x[0] for x in mvk_in.wv.most_similar(positive=word, topn=100)]\n",
        "        for f in freq_words:\n",
        "          freq = mvk_in.wv.vocab[f].count\n",
        "          sum_freq+=freq\n",
        "        dict_r[wordd] = sum_freq\n",
        "      except:\n",
        "        continue\n",
        "  return dict_r\n",
        "def get_scores_time(inputt,mvk_in):\n",
        "  scores = {}\n",
        "  for tar in tars:\n",
        "    sum = 0\n",
        "    for pair in inputt:\n",
        "        try:\n",
        "          resultaat_tel = mvk_in.wv.similarity(pair,tar)\n",
        "        except KeyError:\n",
        "          resultaat_tel = 0\n",
        "        sum+=resultaat_tel\n",
        "    scores[tar] = sum/len(inputt)\n",
        "  return scores\n",
        "def analysis_time(modelll):\n",
        "  mvkk = gensim.models.Word2Vec.load(modelll)\n",
        "  frequencies = compute_frequenccy(all,mvkk)\n",
        "  tars = list(frequencies.keys())\n",
        "  df_results = pd.DataFrame()\n",
        "  df_results['names'] = list(frequencies.keys())\n",
        "  df_results['frequencies'] = list(frequencies.values())\n",
        "  df_results['groups'] = [groupss[name] for name in df_results.names.values]\n",
        "  scores_lowstatus  = get_scores_time(low_status_all,mvkk)\n",
        "  scores_highthreat = get_scores_time(high_threat_all,mvkk)\n",
        "  scores_lowstatus  = { your_key: scores_lowstatus[your_key] for your_key in tars }\n",
        "  scores_highthreat  = { your_key: scores_highthreat[your_key] for your_key in tars }\n",
        "  df_results['scores_lowstatus']  = [x*10 for x in list(scores_lowstatus.values())]\n",
        "  df_results['scores_highthreat'] = [x*10 for x in list(scores_highthreat.values())]\n",
        "  df_results[\"names:group\"] = df_results[\"names\"] + '/'+ df_results[\"groups\"]\n",
        "  df_results.drop(['names','groups'],axis=1,inplace=True)\n",
        "  return df_results"
      ],
      "metadata": {
        "id": "ifi8BZUkgi31"
      },
      "execution_count": null,
      "outputs": []
    },
    {
      "cell_type": "code",
      "source": [
        "import gensim\n",
        "period1_results = analysis_time(\"/content/drive/My Drive/xml/models/word2vec_1994.model\")\n",
        "period2_results = analysis_time(\"/content/drive/My Drive/xml/models/word2vec_1998.model\")\n",
        "period3_results = analysis_time(\"/content/drive/My Drive/xml/models/word2vec_2002.model\")"
      ],
      "metadata": {
        "id": "3_L8lBqQjdsZ"
      },
      "execution_count": null,
      "outputs": []
    },
    {
      "cell_type": "markdown",
      "source": [],
      "metadata": {
        "id": "QWWJMetdxjxL"
      }
    },
    {
      "cell_type": "code",
      "source": [
        "period1_results"
      ],
      "metadata": {
        "id": "YbAL9_Avjyai"
      },
      "execution_count": null,
      "outputs": []
    },
    {
      "cell_type": "code",
      "source": [
        "import matplotlib.pyplot as plt\n",
        "import seaborn as sns\n",
        "plt.figure(figsize=(15,5))\n",
        "sns.scatterplot(data=period1_results,x='scores_lowstatus',y='scores_highthreat',hue=\"names:group\",size=\"frequencies\")"
      ],
      "metadata": {
        "id": "xCxqjXGJxn51"
      },
      "execution_count": null,
      "outputs": []
    },
    {
      "cell_type": "code",
      "source": [
        "period2_results"
      ],
      "metadata": {
        "id": "gajBQlFVxUZC"
      },
      "execution_count": null,
      "outputs": []
    },
    {
      "cell_type": "code",
      "source": [
        "plt.figure(figsize=(15,5))\n",
        "sns.scatterplot(data=period2_results,x='scores_lowstatus',y='scores_highthreat',hue=\"names:group\",size=\"frequencies\")"
      ],
      "metadata": {
        "id": "o9Agdbfxx225"
      },
      "execution_count": null,
      "outputs": []
    },
    {
      "cell_type": "code",
      "source": [
        "period3_results"
      ],
      "metadata": {
        "id": "6GOAShL5xUb8"
      },
      "execution_count": null,
      "outputs": []
    },
    {
      "cell_type": "code",
      "source": [
        "plt.figure(figsize=(15,5))\n",
        "sns.scatterplot(data=period3_results,x='scores_lowstatus',y='scores_highthreat',hue=\"names:group\",size=\"frequencies\")"
      ],
      "metadata": {
        "id": "vd07Ugakx5Xl"
      },
      "execution_count": null,
      "outputs": []
    },
    {
      "cell_type": "markdown",
      "source": [
        "### Question 3\n",
        "Over time, the strength of implicit stereotypical associations in\n",
        "plenary documents content will increase for ethnic outgroups, while this will not be the case for ethnic ingroups. \n",
        "\n",
        "* Over Time, we can observe from the 3 plots of 3 diffrents periods, thats the points represnting outgroups are moving to to right and to the top, period by period which mean that thier low status/ high treat scores are increasing over time for outgroups.\n",
        "\n",
        "In the other hand, In groups are reciving almost the same low scores over time.\n",
        "\n",
        "\n",
        "\n"
      ],
      "metadata": {
        "id": "oufDjduSx8jr"
      }
    },
    {
      "cell_type": "code",
      "source": [
        "r"
      ],
      "metadata": {
        "id": "fQCk1Znku5o1"
      },
      "execution_count": null,
      "outputs": []
    },
    {
      "cell_type": "markdown",
      "source": [
        "#### Question 4\n",
        "\n",
        "Research Question 1 (RQ1): To what extent do real-world integration outcomes (i.e., representation of ethnic groups among criminality rates and the distribution of social benefits) affect the evolution of in implicit stereotypical associations the news media content?\n",
        "\n",
        "* As our analysis showen ,We expect that the stereotypicality of news media\n",
        "content about ethnic out-groups will increase over time for the following reasons. Because Political content is likely to mirror increasingly unfavorable public perceptions about minority groups, As the elections are always search for the majority(ingroups) votes. "
      ],
      "metadata": {
        "id": "ZA82eEcXzPB6"
      }
    }
  ],
  "metadata": {
    "colab": {
      "collapsed_sections": [],
      "name": "Copy of german",
      "provenance": [],
      "include_colab_link": true
    },
    "kernelspec": {
      "display_name": "Python 3",
      "name": "python3"
    },
    "language_info": {
      "name": "python"
    }
  },
  "nbformat": 4,
  "nbformat_minor": 0
}